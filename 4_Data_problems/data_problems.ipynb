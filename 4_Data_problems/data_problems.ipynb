{
 "cells": [
  {
   "cell_type": "markdown",
   "id": "60b1badf",
   "metadata": {},
   "source": [
    "Необходимо провести очистку данных на примере датасета с информацией о пассажирах корабля Титаник. На данных обучить модель классификации, с целевым признаком Survived (1 – пассажир выжил, 0 – погиб). Обучить модель на необработанных данных и посчитайте метрику качества. Провести очистку данных. Обучить модель на данных после обработки, посчитать метрику качества. Сравнить полученные результаты. Значение метрики должно улучшиться.\n",
    "\n",
    "### Этапы работы:\n",
    "\n",
    "1) Получите и загрузите данные.\n",
    "\n",
    "2) Удалите все пропущенные значения и категориальные переменные. Обучите модель. Выберете и посчитайте метрику качества.\n",
    "\n",
    "3) Снова загрузите полные данные.\n",
    "\n",
    "4) Удалите признаки, которые логически не нужны для построения модели. Обоснуйте.\n",
    "\n",
    "5) Проверьте данные на наличие пропущенных значений.\n",
    "\n",
    "**a)** Посчитайте, какой процент данных будет потерян, если просто удалить пропуски.\n",
    "**b)** Заполните пропуски: средним значением, константой, классом, указывающим на то, что значение было пропущено, случайным числом. Для разных признаков используйте подходящий метод. Можно не использовать все перечисленные методы.\n",
    "\n",
    "6) Категориальные переменные переведите в цифровые значения. Можно использовать pd.get_dummies, preprocessing.LabelEncoder. Старайтесь не использовать для этой задачи циклы.\n",
    "\n",
    "7) Проверьте данные на наличие выбросов.\n",
    "**a)** Удалите выбросы, если считаете это целесообразным. Обоснуйте.\n",
    "\n",
    "8) *Постройте 1-2 графика на выбор. Визуализация должна быть основана на исследуемых данных и быть полезной (из графика можно сделать вывод об особенностях датасета/класса/признака)\n",
    "\n",
    "9) *Попробуйте математически преобразовать признак Age.\n",
    "\n",
    "10) Обучите ту же модель, что в п. 2 на преобразованных данных. Посчитайте ту же, что в п. 2 метрику.\n",
    "\n",
    "11) Сформулируйте выводы по проделанной работе.\n",
    "\n",
    "**a)** Кратко опишите какие преобразования были сделаны и почему.\n",
    "**b)** Сравните метрики моделей из п. 2 и п. 10.\n",
    "**c)** Напишите свое мнение о целесообразности работы с данными при построении моделей машинного обучения. *Нужно ли аналогичным образов исследовать и дополнять действительно большие данные?"
   ]
  },
  {
   "cell_type": "code",
   "execution_count": 1,
   "id": "312f875d",
   "metadata": {},
   "outputs": [],
   "source": [
    "import re\n",
    "import numpy as np\n",
    "import pandas as pd\n",
    "import matplotlib.pyplot as plt\n",
    "import seaborn as sns\n",
    "from sklearn.linear_model import LogisticRegression\n",
    "from sklearn.metrics import roc_auc_score\n",
    "from sklearn.model_selection import train_test_split\n",
    "from sklearn.preprocessing import LabelEncoder\n",
    "from sklearn.preprocessing import OneHotEncoder"
   ]
  },
  {
   "cell_type": "code",
   "execution_count": 2,
   "id": "67f733f2",
   "metadata": {},
   "outputs": [
    {
     "data": {
      "text/html": [
       "<div>\n",
       "<style scoped>\n",
       "    .dataframe tbody tr th:only-of-type {\n",
       "        vertical-align: middle;\n",
       "    }\n",
       "\n",
       "    .dataframe tbody tr th {\n",
       "        vertical-align: top;\n",
       "    }\n",
       "\n",
       "    .dataframe thead th {\n",
       "        text-align: right;\n",
       "    }\n",
       "</style>\n",
       "<table border=\"1\" class=\"dataframe\">\n",
       "  <thead>\n",
       "    <tr style=\"text-align: right;\">\n",
       "      <th></th>\n",
       "      <th>PassengerId</th>\n",
       "      <th>Survived</th>\n",
       "      <th>Pclass</th>\n",
       "      <th>Name</th>\n",
       "      <th>Sex</th>\n",
       "      <th>Age</th>\n",
       "      <th>SibSp</th>\n",
       "      <th>Parch</th>\n",
       "      <th>Ticket</th>\n",
       "      <th>Fare</th>\n",
       "      <th>Cabin</th>\n",
       "      <th>Embarked</th>\n",
       "    </tr>\n",
       "  </thead>\n",
       "  <tbody>\n",
       "    <tr>\n",
       "      <th>0</th>\n",
       "      <td>1</td>\n",
       "      <td>0</td>\n",
       "      <td>3</td>\n",
       "      <td>Braund, Mr. Owen Harris</td>\n",
       "      <td>male</td>\n",
       "      <td>22.0</td>\n",
       "      <td>1</td>\n",
       "      <td>0</td>\n",
       "      <td>A/5 21171</td>\n",
       "      <td>7.2500</td>\n",
       "      <td>NaN</td>\n",
       "      <td>S</td>\n",
       "    </tr>\n",
       "    <tr>\n",
       "      <th>1</th>\n",
       "      <td>2</td>\n",
       "      <td>1</td>\n",
       "      <td>1</td>\n",
       "      <td>Cumings, Mrs. John Bradley (Florence Briggs Th...</td>\n",
       "      <td>female</td>\n",
       "      <td>38.0</td>\n",
       "      <td>1</td>\n",
       "      <td>0</td>\n",
       "      <td>PC 17599</td>\n",
       "      <td>71.2833</td>\n",
       "      <td>C85</td>\n",
       "      <td>C</td>\n",
       "    </tr>\n",
       "    <tr>\n",
       "      <th>2</th>\n",
       "      <td>3</td>\n",
       "      <td>1</td>\n",
       "      <td>3</td>\n",
       "      <td>Heikkinen, Miss. Laina</td>\n",
       "      <td>female</td>\n",
       "      <td>26.0</td>\n",
       "      <td>0</td>\n",
       "      <td>0</td>\n",
       "      <td>STON/O2. 3101282</td>\n",
       "      <td>7.9250</td>\n",
       "      <td>NaN</td>\n",
       "      <td>S</td>\n",
       "    </tr>\n",
       "    <tr>\n",
       "      <th>3</th>\n",
       "      <td>4</td>\n",
       "      <td>1</td>\n",
       "      <td>1</td>\n",
       "      <td>Futrelle, Mrs. Jacques Heath (Lily May Peel)</td>\n",
       "      <td>female</td>\n",
       "      <td>35.0</td>\n",
       "      <td>1</td>\n",
       "      <td>0</td>\n",
       "      <td>113803</td>\n",
       "      <td>53.1000</td>\n",
       "      <td>C123</td>\n",
       "      <td>S</td>\n",
       "    </tr>\n",
       "    <tr>\n",
       "      <th>4</th>\n",
       "      <td>5</td>\n",
       "      <td>0</td>\n",
       "      <td>3</td>\n",
       "      <td>Allen, Mr. William Henry</td>\n",
       "      <td>male</td>\n",
       "      <td>35.0</td>\n",
       "      <td>0</td>\n",
       "      <td>0</td>\n",
       "      <td>373450</td>\n",
       "      <td>8.0500</td>\n",
       "      <td>NaN</td>\n",
       "      <td>S</td>\n",
       "    </tr>\n",
       "  </tbody>\n",
       "</table>\n",
       "</div>"
      ],
      "text/plain": [
       "   PassengerId  Survived  Pclass  \\\n",
       "0            1         0       3   \n",
       "1            2         1       1   \n",
       "2            3         1       3   \n",
       "3            4         1       1   \n",
       "4            5         0       3   \n",
       "\n",
       "                                                Name     Sex   Age  SibSp  \\\n",
       "0                            Braund, Mr. Owen Harris    male  22.0      1   \n",
       "1  Cumings, Mrs. John Bradley (Florence Briggs Th...  female  38.0      1   \n",
       "2                             Heikkinen, Miss. Laina  female  26.0      0   \n",
       "3       Futrelle, Mrs. Jacques Heath (Lily May Peel)  female  35.0      1   \n",
       "4                           Allen, Mr. William Henry    male  35.0      0   \n",
       "\n",
       "   Parch            Ticket     Fare Cabin Embarked  \n",
       "0      0         A/5 21171   7.2500   NaN        S  \n",
       "1      0          PC 17599  71.2833   C85        C  \n",
       "2      0  STON/O2. 3101282   7.9250   NaN        S  \n",
       "3      0            113803  53.1000  C123        S  \n",
       "4      0            373450   8.0500   NaN        S  "
      ]
     },
     "execution_count": 2,
     "metadata": {},
     "output_type": "execute_result"
    }
   ],
   "source": [
    "data = pd.read_csv('titanic.csv')\n",
    "data.head()"
   ]
  },
  {
   "cell_type": "code",
   "execution_count": 3,
   "id": "78754d47",
   "metadata": {},
   "outputs": [
    {
     "data": {
      "text/plain": [
       "(891, 12)"
      ]
     },
     "execution_count": 3,
     "metadata": {},
     "output_type": "execute_result"
    }
   ],
   "source": [
    "data.shape"
   ]
  },
  {
   "cell_type": "markdown",
   "id": "b5a17165",
   "metadata": {},
   "source": [
    "### Удалим все пропущенные значения и категориальные переменные."
   ]
  },
  {
   "cell_type": "code",
   "execution_count": 4,
   "id": "be09eab9",
   "metadata": {},
   "outputs": [],
   "source": [
    "data_with_dropped = data.copy()\n",
    "data_with_dropped.dropna(axis=0, inplace=True)\n",
    "data_with_dropped = data_with_dropped.drop(columns = ['PassengerId', 'Pclass', 'Name', 'Sex', 'Ticket', 'Cabin', 'Embarked'])"
   ]
  },
  {
   "cell_type": "code",
   "execution_count": 5,
   "id": "17b0fd87",
   "metadata": {},
   "outputs": [
    {
     "data": {
      "text/html": [
       "<div>\n",
       "<style scoped>\n",
       "    .dataframe tbody tr th:only-of-type {\n",
       "        vertical-align: middle;\n",
       "    }\n",
       "\n",
       "    .dataframe tbody tr th {\n",
       "        vertical-align: top;\n",
       "    }\n",
       "\n",
       "    .dataframe thead th {\n",
       "        text-align: right;\n",
       "    }\n",
       "</style>\n",
       "<table border=\"1\" class=\"dataframe\">\n",
       "  <thead>\n",
       "    <tr style=\"text-align: right;\">\n",
       "      <th></th>\n",
       "      <th>Survived</th>\n",
       "      <th>Age</th>\n",
       "      <th>SibSp</th>\n",
       "      <th>Parch</th>\n",
       "      <th>Fare</th>\n",
       "    </tr>\n",
       "  </thead>\n",
       "  <tbody>\n",
       "    <tr>\n",
       "      <th>1</th>\n",
       "      <td>1</td>\n",
       "      <td>38.0</td>\n",
       "      <td>1</td>\n",
       "      <td>0</td>\n",
       "      <td>71.2833</td>\n",
       "    </tr>\n",
       "    <tr>\n",
       "      <th>3</th>\n",
       "      <td>1</td>\n",
       "      <td>35.0</td>\n",
       "      <td>1</td>\n",
       "      <td>0</td>\n",
       "      <td>53.1000</td>\n",
       "    </tr>\n",
       "    <tr>\n",
       "      <th>6</th>\n",
       "      <td>0</td>\n",
       "      <td>54.0</td>\n",
       "      <td>0</td>\n",
       "      <td>0</td>\n",
       "      <td>51.8625</td>\n",
       "    </tr>\n",
       "    <tr>\n",
       "      <th>10</th>\n",
       "      <td>1</td>\n",
       "      <td>4.0</td>\n",
       "      <td>1</td>\n",
       "      <td>1</td>\n",
       "      <td>16.7000</td>\n",
       "    </tr>\n",
       "    <tr>\n",
       "      <th>11</th>\n",
       "      <td>1</td>\n",
       "      <td>58.0</td>\n",
       "      <td>0</td>\n",
       "      <td>0</td>\n",
       "      <td>26.5500</td>\n",
       "    </tr>\n",
       "  </tbody>\n",
       "</table>\n",
       "</div>"
      ],
      "text/plain": [
       "    Survived   Age  SibSp  Parch     Fare\n",
       "1          1  38.0      1      0  71.2833\n",
       "3          1  35.0      1      0  53.1000\n",
       "6          0  54.0      0      0  51.8625\n",
       "10         1   4.0      1      1  16.7000\n",
       "11         1  58.0      0      0  26.5500"
      ]
     },
     "execution_count": 5,
     "metadata": {},
     "output_type": "execute_result"
    }
   ],
   "source": [
    "data_with_dropped.head()"
   ]
  },
  {
   "cell_type": "code",
   "execution_count": 6,
   "id": "cef44c63",
   "metadata": {},
   "outputs": [
    {
     "data": {
      "text/plain": [
       "(183, 5)"
      ]
     },
     "execution_count": 6,
     "metadata": {},
     "output_type": "execute_result"
    }
   ],
   "source": [
    "data_with_dropped.shape"
   ]
  },
  {
   "cell_type": "markdown",
   "id": "e8227bbe",
   "metadata": {},
   "source": [
    "### Обучим модель и посчитаем метрику качества."
   ]
  },
  {
   "cell_type": "code",
   "execution_count": 7,
   "id": "0b499549",
   "metadata": {},
   "outputs": [],
   "source": [
    "X = data_with_dropped[data_with_dropped.columns[1:]]\n",
    "y = data_with_dropped['Survived']"
   ]
  },
  {
   "cell_type": "code",
   "execution_count": 8,
   "id": "75e4dc67",
   "metadata": {},
   "outputs": [],
   "source": [
    "X_train, X_test, y_train, y_test = train_test_split(X, y, test_size=0.2, random_state=21)"
   ]
  },
  {
   "cell_type": "code",
   "execution_count": 9,
   "id": "203ba850",
   "metadata": {},
   "outputs": [
    {
     "data": {
      "text/plain": [
       "LogisticRegression(solver='newton-cg')"
      ]
     },
     "execution_count": 9,
     "metadata": {},
     "output_type": "execute_result"
    }
   ],
   "source": [
    "model = LogisticRegression(solver = 'newton-cg')\n",
    "model.fit(X_train, y_train)"
   ]
  },
  {
   "cell_type": "code",
   "execution_count": 10,
   "id": "ecf18a7a",
   "metadata": {},
   "outputs": [],
   "source": [
    "pred_with_dropped = model.predict_proba(X_test)"
   ]
  },
  {
   "cell_type": "code",
   "execution_count": 11,
   "id": "e56e2a88",
   "metadata": {},
   "outputs": [
    {
     "data": {
      "text/plain": [
       "0.7397260273972602"
      ]
     },
     "execution_count": 11,
     "metadata": {},
     "output_type": "execute_result"
    }
   ],
   "source": [
    "model.score(X_train, y_train)"
   ]
  },
  {
   "cell_type": "code",
   "execution_count": 12,
   "id": "5f820971",
   "metadata": {},
   "outputs": [
    {
     "data": {
      "text/plain": [
       "0.6486486486486487"
      ]
     },
     "execution_count": 12,
     "metadata": {},
     "output_type": "execute_result"
    }
   ],
   "source": [
    "model.score(X_test, y_test)"
   ]
  },
  {
   "cell_type": "code",
   "execution_count": 13,
   "id": "1d615e30",
   "metadata": {},
   "outputs": [
    {
     "data": {
      "text/plain": [
       "0.8198757763975155"
      ]
     },
     "execution_count": 13,
     "metadata": {},
     "output_type": "execute_result"
    }
   ],
   "source": [
    "roc_auc_score(y_test, pred_with_dropped[:, 1])"
   ]
  },
  {
   "cell_type": "markdown",
   "id": "87076a3e",
   "metadata": {},
   "source": [
    "### Работа с изначальным dataframe. Удалим признаки, которые логически не нужны для построения модели."
   ]
  },
  {
   "cell_type": "code",
   "execution_count": 14,
   "id": "fd69bd46",
   "metadata": {},
   "outputs": [
    {
     "data": {
      "text/html": [
       "<div>\n",
       "<style scoped>\n",
       "    .dataframe tbody tr th:only-of-type {\n",
       "        vertical-align: middle;\n",
       "    }\n",
       "\n",
       "    .dataframe tbody tr th {\n",
       "        vertical-align: top;\n",
       "    }\n",
       "\n",
       "    .dataframe thead th {\n",
       "        text-align: right;\n",
       "    }\n",
       "</style>\n",
       "<table border=\"1\" class=\"dataframe\">\n",
       "  <thead>\n",
       "    <tr style=\"text-align: right;\">\n",
       "      <th></th>\n",
       "      <th>Survived</th>\n",
       "    </tr>\n",
       "  </thead>\n",
       "  <tbody>\n",
       "    <tr>\n",
       "      <th>Survived</th>\n",
       "      <td>1.000000</td>\n",
       "    </tr>\n",
       "    <tr>\n",
       "      <th>Fare</th>\n",
       "      <td>0.257307</td>\n",
       "    </tr>\n",
       "    <tr>\n",
       "      <th>Parch</th>\n",
       "      <td>0.081629</td>\n",
       "    </tr>\n",
       "    <tr>\n",
       "      <th>PassengerId</th>\n",
       "      <td>-0.005007</td>\n",
       "    </tr>\n",
       "    <tr>\n",
       "      <th>SibSp</th>\n",
       "      <td>-0.035322</td>\n",
       "    </tr>\n",
       "    <tr>\n",
       "      <th>Age</th>\n",
       "      <td>-0.077221</td>\n",
       "    </tr>\n",
       "    <tr>\n",
       "      <th>Pclass</th>\n",
       "      <td>-0.338481</td>\n",
       "    </tr>\n",
       "  </tbody>\n",
       "</table>\n",
       "</div>"
      ],
      "text/plain": [
       "             Survived\n",
       "Survived     1.000000\n",
       "Fare         0.257307\n",
       "Parch        0.081629\n",
       "PassengerId -0.005007\n",
       "SibSp       -0.035322\n",
       "Age         -0.077221\n",
       "Pclass      -0.338481"
      ]
     },
     "execution_count": 14,
     "metadata": {},
     "output_type": "execute_result"
    }
   ],
   "source": [
    "data.corr()[['Survived']].sort_values(by='Survived', ascending=False)"
   ]
  },
  {
   "cell_type": "markdown",
   "id": "7a6a9cf6",
   "metadata": {},
   "source": [
    "Мы можем удалить следующие признаки:\n",
    "\n",
    "- PassengerId, Name(перед удалением получим статус пассажира) и Ticket так как эти признаки служат только для идентификации пассажары и не несут пользы для модели\n",
    "\n",
    "- Cabin, так как номер каюты зависил от класса (Pclass). Я опускаю тот момент, что вероятность погибнуть в каютах расположенных в районе удара \"Титаника\" о айсберг была больше"
   ]
  },
  {
   "cell_type": "code",
   "execution_count": 15,
   "id": "219975e2",
   "metadata": {},
   "outputs": [],
   "source": [
    "data['status'] = data['Name'].apply(lambda x: re.search(r'\\s\\w*[.]', x)[0])"
   ]
  },
  {
   "cell_type": "code",
   "execution_count": 16,
   "id": "42f59a14",
   "metadata": {},
   "outputs": [],
   "source": [
    "data = data.drop(columns=['PassengerId', 'Name', 'Ticket', 'Cabin'])"
   ]
  },
  {
   "cell_type": "markdown",
   "id": "d047fe8e",
   "metadata": {},
   "source": [
    "### Проверка данных на наличие пропущенных значений.\n",
    "\n",
    "-   Посчитаем, какой процент данных будет потерян, если просто удалить пропуски.\n",
    "\n",
    "-   Заполню пропуски"
   ]
  },
  {
   "cell_type": "code",
   "execution_count": 17,
   "id": "c66fd180",
   "metadata": {},
   "outputs": [
    {
     "name": "stdout",
     "output_type": "stream",
     "text": [
      "<class 'pandas.core.frame.DataFrame'>\n",
      "RangeIndex: 891 entries, 0 to 890\n",
      "Data columns (total 9 columns):\n",
      " #   Column    Non-Null Count  Dtype  \n",
      "---  ------    --------------  -----  \n",
      " 0   Survived  891 non-null    int64  \n",
      " 1   Pclass    891 non-null    int64  \n",
      " 2   Sex       891 non-null    object \n",
      " 3   Age       714 non-null    float64\n",
      " 4   SibSp     891 non-null    int64  \n",
      " 5   Parch     891 non-null    int64  \n",
      " 6   Fare      891 non-null    float64\n",
      " 7   Embarked  889 non-null    object \n",
      " 8   status    891 non-null    object \n",
      "dtypes: float64(2), int64(4), object(3)\n",
      "memory usage: 62.8+ KB\n"
     ]
    }
   ],
   "source": [
    "data.info()"
   ]
  },
  {
   "cell_type": "code",
   "execution_count": 18,
   "id": "b72337b9",
   "metadata": {},
   "outputs": [
    {
     "name": "stdout",
     "output_type": "stream",
     "text": [
      "При удалении всех записей с пропусками мы потеряем 20.1% записей\n"
     ]
    }
   ],
   "source": [
    "lost_data = data.dropna(axis=0).shape[0] / data.shape[0] * 100\n",
    "print(f'При удалении всех записей с пропусками мы потеряем {100 - lost_data:.1f}% записей')"
   ]
  },
  {
   "cell_type": "markdown",
   "id": "b36ea8bb",
   "metadata": {},
   "source": [
    "Пропущенные значения в Embarked заменим на моду, а значения в Age - на медиану с учётом группировки по полу и статусу, так как средний возраст мужчин женщин на Титанике отличался"
   ]
  },
  {
   "cell_type": "code",
   "execution_count": 19,
   "id": "f526afd4",
   "metadata": {},
   "outputs": [],
   "source": [
    "data['Age'] = data.groupby(['Sex', 'status'], sort=False)['Age'].apply(lambda x: x.fillna(round(x.mean(),0)))\n",
    "data['Embarked'].fillna(data['Embarked'].mode()[0], inplace=True)"
   ]
  },
  {
   "cell_type": "code",
   "execution_count": 20,
   "id": "7c316a52",
   "metadata": {},
   "outputs": [
    {
     "data": {
      "text/plain": [
       "0"
      ]
     },
     "execution_count": 20,
     "metadata": {},
     "output_type": "execute_result"
    }
   ],
   "source": [
    "data.isna().sum().sum()"
   ]
  },
  {
   "cell_type": "markdown",
   "id": "0390f6c2",
   "metadata": {},
   "source": [
    "### Переведём категориальные признаки в количественные"
   ]
  },
  {
   "cell_type": "code",
   "execution_count": 21,
   "id": "2149235a",
   "metadata": {},
   "outputs": [],
   "source": [
    "onehotencoder = OneHotEncoder()"
   ]
  },
  {
   "cell_type": "code",
   "execution_count": 22,
   "id": "10997311",
   "metadata": {},
   "outputs": [],
   "source": [
    "sex = onehotencoder.fit_transform(data[['Sex']]).toarray()\n",
    "sex = pd.DataFrame(sex, columns=onehotencoder.categories_[0])\n",
    "\n",
    "embarked = onehotencoder.fit_transform(data[['Embarked']]).toarray()\n",
    "embarked = pd.DataFrame(embarked, columns=onehotencoder.categories_[0])\n",
    "\n",
    "status = onehotencoder.fit_transform(data[['status']]).toarray()\n",
    "status = pd.DataFrame(status, columns=onehotencoder.categories_[0])"
   ]
  },
  {
   "cell_type": "code",
   "execution_count": 23,
   "id": "40ef7c0b",
   "metadata": {},
   "outputs": [],
   "source": [
    "data = pd.concat([data, sex, embarked, status], axis=1)\n",
    "data = data.drop(columns = ['Sex', 'Embarked', 'status'])"
   ]
  },
  {
   "cell_type": "markdown",
   "id": "87523212",
   "metadata": {},
   "source": [
    "### Проверка данных на наличие выбросов"
   ]
  },
  {
   "cell_type": "code",
   "execution_count": 24,
   "id": "31510d71",
   "metadata": {},
   "outputs": [],
   "source": [
    "def get_boxplot(X, columns=[]):\n",
    "    for i in columns:\n",
    "        sns.boxplot(x=X[i])\n",
    "    pass  \n",
    "\n",
    "def get_pairplot(X, columns=None):\n",
    "    if columns is None:\n",
    "        columns = list(X.columns)\n",
    "    sns.pairplot(X[columns])\n",
    "    pass  "
   ]
  },
  {
   "cell_type": "code",
   "execution_count": 25,
   "id": "a19d65c9",
   "metadata": {},
   "outputs": [
    {
     "data": {
      "image/png": "[encoded data removed]",
      "text/plain": [
       "<Figure size 432x288 with 1 Axes>"
      ]
     },
     "metadata": {
      "needs_background": "light"
     },
     "output_type": "display_data"
    }
   ],
   "source": [
    "get_boxplot(data, columns = ['Age'])"
   ]
  },
  {
   "cell_type": "code",
   "execution_count": 26,
   "id": "6f64e265",
   "metadata": {},
   "outputs": [
    {
     "data": {
      "image/png": "[encoded data removed]",
      "text/plain": [
       "<Figure size 432x288 with 1 Axes>"
      ]
     },
     "metadata": {
      "needs_background": "light"
     },
     "output_type": "display_data"
    }
   ],
   "source": [
    "get_boxplot(data, columns = ['Fare'])"
   ]
  },
  {
   "cell_type": "code",
   "execution_count": 27,
   "id": "bcd5ca1a",
   "metadata": {},
   "outputs": [],
   "source": [
    "data = data[data['Age'] < 75]\n",
    "data = data[data['Fare'] < 500]"
   ]
  },
  {
   "cell_type": "markdown",
   "id": "f8a1930a",
   "metadata": {},
   "source": [
    "Я исключил данные, которые слишком сильно выделяются на общем фоне"
   ]
  },
  {
   "cell_type": "markdown",
   "id": "763861ca",
   "metadata": {},
   "source": [
    "### Построение графика"
   ]
  },
  {
   "cell_type": "code",
   "execution_count": 28,
   "id": "ce48904c",
   "metadata": {},
   "outputs": [
    {
     "data": {
      "text/plain": [
       "<function matplotlib.pyplot.show(close=None, block=None)>"
      ]
     },
     "execution_count": 28,
     "metadata": {},
     "output_type": "execute_result"
    },
    {
     "data": {
      "image/png": "[encoded data removed]",
      "text/plain": [
       "<Figure size 720x576 with 1 Axes>"
      ]
     },
     "metadata": {
      "needs_background": "light"
     },
     "output_type": "display_data"
    }
   ],
   "source": [
    "plt.figure(figsize=(10,8))\n",
    "data[data['Survived'] == 1]['Age'].plot(kind='hist',title='Распределение по возрасту среди выживших', bins=20)\n",
    "plt.xlabel('Возвраст')\n",
    "plt.ylabel('Количество')\n",
    "plt.show"
   ]
  },
  {
   "cell_type": "markdown",
   "id": "03c05c04",
   "metadata": {},
   "source": [
    "При построение данного графика используются искусственные данные, которыми мы заменили отсутствующие значения. Поэтому они не соответствуют реально картине."
   ]
  },
  {
   "cell_type": "markdown",
   "id": "b7d5e24e",
   "metadata": {},
   "source": [
    "### Обучим ту же модель, что в п. 2 на преобразованных данных. Посчитаем ту же, что в п. 2 метрику"
   ]
  },
  {
   "cell_type": "code",
   "execution_count": 29,
   "id": "e71567c4",
   "metadata": {},
   "outputs": [
    {
     "data": {
      "text/html": [
       "<div>\n",
       "<style scoped>\n",
       "    .dataframe tbody tr th:only-of-type {\n",
       "        vertical-align: middle;\n",
       "    }\n",
       "\n",
       "    .dataframe tbody tr th {\n",
       "        vertical-align: top;\n",
       "    }\n",
       "\n",
       "    .dataframe thead th {\n",
       "        text-align: right;\n",
       "    }\n",
       "</style>\n",
       "<table border=\"1\" class=\"dataframe\">\n",
       "  <thead>\n",
       "    <tr style=\"text-align: right;\">\n",
       "      <th></th>\n",
       "      <th>Survived</th>\n",
       "      <th>Pclass</th>\n",
       "      <th>Age</th>\n",
       "      <th>SibSp</th>\n",
       "      <th>Parch</th>\n",
       "      <th>Fare</th>\n",
       "      <th>female</th>\n",
       "      <th>male</th>\n",
       "      <th>C</th>\n",
       "      <th>Q</th>\n",
       "      <th>...</th>\n",
       "      <th>Major.</th>\n",
       "      <th>Master.</th>\n",
       "      <th>Miss.</th>\n",
       "      <th>Mlle.</th>\n",
       "      <th>Mme.</th>\n",
       "      <th>Mr.</th>\n",
       "      <th>Mrs.</th>\n",
       "      <th>Ms.</th>\n",
       "      <th>Rev.</th>\n",
       "      <th>Sir.</th>\n",
       "    </tr>\n",
       "  </thead>\n",
       "  <tbody>\n",
       "    <tr>\n",
       "      <th>0</th>\n",
       "      <td>0</td>\n",
       "      <td>3</td>\n",
       "      <td>22.0</td>\n",
       "      <td>1</td>\n",
       "      <td>0</td>\n",
       "      <td>7.2500</td>\n",
       "      <td>0.0</td>\n",
       "      <td>1.0</td>\n",
       "      <td>0.0</td>\n",
       "      <td>0.0</td>\n",
       "      <td>...</td>\n",
       "      <td>0.0</td>\n",
       "      <td>0.0</td>\n",
       "      <td>0.0</td>\n",
       "      <td>0.0</td>\n",
       "      <td>0.0</td>\n",
       "      <td>1.0</td>\n",
       "      <td>0.0</td>\n",
       "      <td>0.0</td>\n",
       "      <td>0.0</td>\n",
       "      <td>0.0</td>\n",
       "    </tr>\n",
       "    <tr>\n",
       "      <th>1</th>\n",
       "      <td>1</td>\n",
       "      <td>1</td>\n",
       "      <td>38.0</td>\n",
       "      <td>1</td>\n",
       "      <td>0</td>\n",
       "      <td>71.2833</td>\n",
       "      <td>1.0</td>\n",
       "      <td>0.0</td>\n",
       "      <td>1.0</td>\n",
       "      <td>0.0</td>\n",
       "      <td>...</td>\n",
       "      <td>0.0</td>\n",
       "      <td>0.0</td>\n",
       "      <td>0.0</td>\n",
       "      <td>0.0</td>\n",
       "      <td>0.0</td>\n",
       "      <td>0.0</td>\n",
       "      <td>1.0</td>\n",
       "      <td>0.0</td>\n",
       "      <td>0.0</td>\n",
       "      <td>0.0</td>\n",
       "    </tr>\n",
       "    <tr>\n",
       "      <th>2</th>\n",
       "      <td>1</td>\n",
       "      <td>3</td>\n",
       "      <td>26.0</td>\n",
       "      <td>0</td>\n",
       "      <td>0</td>\n",
       "      <td>7.9250</td>\n",
       "      <td>1.0</td>\n",
       "      <td>0.0</td>\n",
       "      <td>0.0</td>\n",
       "      <td>0.0</td>\n",
       "      <td>...</td>\n",
       "      <td>0.0</td>\n",
       "      <td>0.0</td>\n",
       "      <td>1.0</td>\n",
       "      <td>0.0</td>\n",
       "      <td>0.0</td>\n",
       "      <td>0.0</td>\n",
       "      <td>0.0</td>\n",
       "      <td>0.0</td>\n",
       "      <td>0.0</td>\n",
       "      <td>0.0</td>\n",
       "    </tr>\n",
       "    <tr>\n",
       "      <th>3</th>\n",
       "      <td>1</td>\n",
       "      <td>1</td>\n",
       "      <td>35.0</td>\n",
       "      <td>1</td>\n",
       "      <td>0</td>\n",
       "      <td>53.1000</td>\n",
       "      <td>1.0</td>\n",
       "      <td>0.0</td>\n",
       "      <td>0.0</td>\n",
       "      <td>0.0</td>\n",
       "      <td>...</td>\n",
       "      <td>0.0</td>\n",
       "      <td>0.0</td>\n",
       "      <td>0.0</td>\n",
       "      <td>0.0</td>\n",
       "      <td>0.0</td>\n",
       "      <td>0.0</td>\n",
       "      <td>1.0</td>\n",
       "      <td>0.0</td>\n",
       "      <td>0.0</td>\n",
       "      <td>0.0</td>\n",
       "    </tr>\n",
       "    <tr>\n",
       "      <th>4</th>\n",
       "      <td>0</td>\n",
       "      <td>3</td>\n",
       "      <td>35.0</td>\n",
       "      <td>0</td>\n",
       "      <td>0</td>\n",
       "      <td>8.0500</td>\n",
       "      <td>0.0</td>\n",
       "      <td>1.0</td>\n",
       "      <td>0.0</td>\n",
       "      <td>0.0</td>\n",
       "      <td>...</td>\n",
       "      <td>0.0</td>\n",
       "      <td>0.0</td>\n",
       "      <td>0.0</td>\n",
       "      <td>0.0</td>\n",
       "      <td>0.0</td>\n",
       "      <td>1.0</td>\n",
       "      <td>0.0</td>\n",
       "      <td>0.0</td>\n",
       "      <td>0.0</td>\n",
       "      <td>0.0</td>\n",
       "    </tr>\n",
       "  </tbody>\n",
       "</table>\n",
       "<p>5 rows × 28 columns</p>\n",
       "</div>"
      ],
      "text/plain": [
       "   Survived  Pclass   Age  SibSp  Parch     Fare  female  male    C    Q  ...  \\\n",
       "0         0       3  22.0      1      0   7.2500     0.0   1.0  0.0  0.0  ...   \n",
       "1         1       1  38.0      1      0  71.2833     1.0   0.0  1.0  0.0  ...   \n",
       "2         1       3  26.0      0      0   7.9250     1.0   0.0  0.0  0.0  ...   \n",
       "3         1       1  35.0      1      0  53.1000     1.0   0.0  0.0  0.0  ...   \n",
       "4         0       3  35.0      0      0   8.0500     0.0   1.0  0.0  0.0  ...   \n",
       "\n",
       "    Major.   Master.   Miss.   Mlle.   Mme.   Mr.   Mrs.   Ms.   Rev.   Sir.  \n",
       "0      0.0       0.0     0.0     0.0    0.0   1.0    0.0   0.0    0.0    0.0  \n",
       "1      0.0       0.0     0.0     0.0    0.0   0.0    1.0   0.0    0.0    0.0  \n",
       "2      0.0       0.0     1.0     0.0    0.0   0.0    0.0   0.0    0.0    0.0  \n",
       "3      0.0       0.0     0.0     0.0    0.0   0.0    1.0   0.0    0.0    0.0  \n",
       "4      0.0       0.0     0.0     0.0    0.0   1.0    0.0   0.0    0.0    0.0  \n",
       "\n",
       "[5 rows x 28 columns]"
      ]
     },
     "execution_count": 29,
     "metadata": {},
     "output_type": "execute_result"
    }
   ],
   "source": [
    "data.head()"
   ]
  },
  {
   "cell_type": "code",
   "execution_count": 30,
   "id": "eaf5c277",
   "metadata": {},
   "outputs": [
    {
     "data": {
      "text/plain": [
       "0.8610969387755102"
      ]
     },
     "execution_count": 30,
     "metadata": {},
     "output_type": "execute_result"
    }
   ],
   "source": [
    "X = data[data.columns[1:]]\n",
    "y = data['Survived']\n",
    "\n",
    "X_train, X_test, y_train, y_test = train_test_split(X, y, test_size = 0.2, random_state = 21)\n",
    "\n",
    "model = LogisticRegression(solver = 'newton-cg')\n",
    "model.fit(X_train, y_train)\n",
    "\n",
    "predictions2 = model.predict_proba(X_test)\n",
    "roc_auc_score(y_test, predictions2[:, 1])"
   ]
  },
  {
   "cell_type": "code",
   "execution_count": 31,
   "id": "cdaa3779",
   "metadata": {},
   "outputs": [
    {
     "data": {
      "text/plain": [
       "0.844851904090268"
      ]
     },
     "execution_count": 31,
     "metadata": {},
     "output_type": "execute_result"
    }
   ],
   "source": [
    "model.score(X_train, y_train)"
   ]
  },
  {
   "cell_type": "code",
   "execution_count": 32,
   "id": "fa4f813c",
   "metadata": {},
   "outputs": [
    {
     "data": {
      "text/plain": [
       "0.7808988764044944"
      ]
     },
     "execution_count": 32,
     "metadata": {},
     "output_type": "execute_result"
    }
   ],
   "source": [
    "model.score(X_test, y_test)"
   ]
  },
  {
   "cell_type": "markdown",
   "id": "45866299",
   "metadata": {},
   "source": [
    "### Математически преобразуем признак Age и обучим модель на нём"
   ]
  },
  {
   "cell_type": "code",
   "execution_count": 33,
   "id": "4644d76d",
   "metadata": {},
   "outputs": [],
   "source": [
    "def get_age_cat(age):\n",
    "    if age < 13:\n",
    "        return 'child'\n",
    "    elif age <= 18:\n",
    "        return 'teenager'\n",
    "    elif age <= 24:\n",
    "        return 'young adult'\n",
    "    elif age < 40:\n",
    "        return 'adult'\n",
    "    elif age < 50:\n",
    "        return 'middle-aged'\n",
    "    elif age < 65:\n",
    "        return 'senior citizen'\n",
    "    else:\n",
    "        return 'old'"
   ]
  },
  {
   "cell_type": "code",
   "execution_count": 34,
   "id": "68722518",
   "metadata": {},
   "outputs": [],
   "source": [
    "data['Age_category'] = data['Age'].apply(lambda x: get_age_cat(x))"
   ]
  },
  {
   "cell_type": "code",
   "execution_count": 35,
   "id": "b29daa56",
   "metadata": {},
   "outputs": [],
   "source": [
    "age = onehotencoder.fit_transform(data[['Age_category']]).toarray()\n",
    "age = pd.DataFrame(age, columns=onehotencoder.categories_[0])\n",
    "data = pd.concat([data, age], axis=1)\n",
    "data = data.drop(columns = ['Age', 'Age_category'])"
   ]
  },
  {
   "cell_type": "code",
   "execution_count": 36,
   "id": "3d5b8909",
   "metadata": {},
   "outputs": [],
   "source": [
    "data = data.dropna(axis=0)"
   ]
  },
  {
   "cell_type": "code",
   "execution_count": 37,
   "id": "102e1f49",
   "metadata": {},
   "outputs": [
    {
     "data": {
      "text/plain": [
       "0.8698412698412699"
      ]
     },
     "execution_count": 37,
     "metadata": {},
     "output_type": "execute_result"
    }
   ],
   "source": [
    "X = data[data.columns[1:]]\n",
    "y = data['Survived']\n",
    "\n",
    "X_train, X_test, y_train, y_test = train_test_split(X, y, test_size = 0.2, random_state = 21)\n",
    "\n",
    "model = LogisticRegression(solver = 'newton-cg')\n",
    "model.fit(X_train, y_train)\n",
    "\n",
    "predictions2 = model.predict_proba(X_test)\n",
    "roc_auc_score(y_test, predictions2[:, 1])"
   ]
  },
  {
   "cell_type": "code",
   "execution_count": 38,
   "id": "f0e72d55",
   "metadata": {},
   "outputs": [
    {
     "data": {
      "text/plain": [
       "0.8371104815864022"
      ]
     },
     "execution_count": 38,
     "metadata": {},
     "output_type": "execute_result"
    }
   ],
   "source": [
    "model.score(X_train, y_train)"
   ]
  },
  {
   "cell_type": "code",
   "execution_count": 39,
   "id": "459ec344",
   "metadata": {},
   "outputs": [
    {
     "data": {
      "text/plain": [
       "0.8022598870056498"
      ]
     },
     "execution_count": 39,
     "metadata": {},
     "output_type": "execute_result"
    }
   ],
   "source": [
    "model.score(X_test, y_test)"
   ]
  },
  {
   "cell_type": "markdown",
   "id": "7e51df7d",
   "metadata": {},
   "source": [
    "### Выводы: \n",
    "\n",
    "При работе с данными мною были исключены несущественные признаки, были устранены пропуски в записях, а также были преобразованы категориальные значения с помощью метода OneHotEncoding\n",
    "\n",
    "Вышеописанные изменения позволили увеличить показатель roc_auc_score c 0.82 до 0.86, также улучшили качество работы модели с 0.7 до 0.78. Математическое преобразование признака Age позволило roc_auc_score до 0.87 и качество работы до 0.8"
   ]
  }
 ],
 "metadata": {
  "kernelspec": {
   "display_name": "Python 3 (ipykernel)",
   "language": "python",
   "name": "python3"
  },
  "language_info": {
   "codemirror_mode": {
    "name": "ipython",
    "version": 3
   },
   "file_extension": ".py",
   "mimetype": "text/x-python",
   "name": "python",
   "nbconvert_exporter": "python",
   "pygments_lexer": "ipython3",
   "version": "3.9.7"
  }
 },
 "nbformat": 4,
 "nbformat_minor": 5
}
