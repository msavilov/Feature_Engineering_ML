{
 "cells": [
  {
   "cell_type": "markdown",
   "id": "ac940059",
   "metadata": {},
   "source": [
    "Решить задачу классификации при помощи обучения модели логистической регрессии. Качество модели оценивается путем подсчета метрик TPR, FPR и построения графиков ROC-кривой, Precision-Recall. Данные для обучения модели хранятся в файле athletes.csv\n",
    "\n",
    "### Этапы работы:\n",
    "\n",
    "1) Преобразуйте данные:\n",
    "\n",
    "a. проверьте наличие пропущенных значений. Преобразуйте/удалите пропуски по необходимости;\n",
    "\n",
    "b. закодируйте категориальные переменные числовыми значениями по необходимости.\n",
    "\n",
    "2) Разделите выборку на обучающее (80% данных) и тестовое (20% данных) подмножества.\n",
    "\n",
    "3) Постройте ROC-кривую с помощью функции sklearn.metrics. roc_curve.\n",
    "\n",
    "4) Вычислите значение ROC-AUC метрики с помощью функции sklearn.metrics.roc_auc_score.\n",
    "\n",
    "5) Реализуйте подсчет метрик TPR, FPR «вручную», без использования готовых функций из библиотеки sklearn.\n",
    "\n",
    "6) Постройте ROC-кривую с помощью вычисленных в п. 5 метрик: объедините графики из п. 3 и п. 6 в один. Сравните, сделайте вывод.\n",
    "\n",
    "7) Постройте график Precision-Recall, используя метрики, посчитанные в п. 5.\n",
    "\n",
    "8) *Вычислите значение ROC-AUC метрики, используя метрики, посчитанные в п. 5.\n",
    "\n",
    "9) Сформулируйте выводы по проделанной работе:\n",
    "\n",
    "a. как по полученным графикам сделать вывод о качестве модели? Как вы оцениваете обученную модель исходя из подсчитанных метрик?\n",
    "\n",
    "b. *может ли ROC-кривая проходить ниже диагонали?"
   ]
  },
  {
   "cell_type": "code",
   "execution_count": 1,
   "id": "e035bf10",
   "metadata": {},
   "outputs": [],
   "source": [
    "import numpy as np\n",
    "import pandas as pd\n",
    "import matplotlib.pyplot as plt\n",
    "from sklearn.model_selection import train_test_split\n",
    "from sklearn.linear_model import LogisticRegression\n",
    "from sklearn.preprocessing import LabelEncoder\n",
    "from sklearn.preprocessing import OneHotEncoder\n",
    "from sklearn.metrics import auc\n",
    "from sklearn.metrics import roc_auc_score\n",
    "from sklearn.metrics import roc_curve"
   ]
  },
  {
   "cell_type": "code",
   "execution_count": 2,
   "id": "2a681e94",
   "metadata": {},
   "outputs": [
    {
     "data": {
      "text/html": [
       "<div>\n",
       "<style scoped>\n",
       "    .dataframe tbody tr th:only-of-type {\n",
       "        vertical-align: middle;\n",
       "    }\n",
       "\n",
       "    .dataframe tbody tr th {\n",
       "        vertical-align: top;\n",
       "    }\n",
       "\n",
       "    .dataframe thead th {\n",
       "        text-align: right;\n",
       "    }\n",
       "</style>\n",
       "<table border=\"1\" class=\"dataframe\">\n",
       "  <thead>\n",
       "    <tr style=\"text-align: right;\">\n",
       "      <th></th>\n",
       "      <th>id</th>\n",
       "      <th>name</th>\n",
       "      <th>nationality</th>\n",
       "      <th>sex</th>\n",
       "      <th>dob</th>\n",
       "      <th>height</th>\n",
       "      <th>weight</th>\n",
       "      <th>sport</th>\n",
       "      <th>gold</th>\n",
       "      <th>silver</th>\n",
       "      <th>bronze</th>\n",
       "    </tr>\n",
       "  </thead>\n",
       "  <tbody>\n",
       "    <tr>\n",
       "      <th>0</th>\n",
       "      <td>736041664</td>\n",
       "      <td>A Jesus Garcia</td>\n",
       "      <td>ESP</td>\n",
       "      <td>male</td>\n",
       "      <td>10/17/69</td>\n",
       "      <td>1.72</td>\n",
       "      <td>64.0</td>\n",
       "      <td>athletics</td>\n",
       "      <td>0</td>\n",
       "      <td>0</td>\n",
       "      <td>0</td>\n",
       "    </tr>\n",
       "    <tr>\n",
       "      <th>1</th>\n",
       "      <td>532037425</td>\n",
       "      <td>A Lam Shin</td>\n",
       "      <td>KOR</td>\n",
       "      <td>female</td>\n",
       "      <td>9/23/86</td>\n",
       "      <td>1.68</td>\n",
       "      <td>56.0</td>\n",
       "      <td>fencing</td>\n",
       "      <td>0</td>\n",
       "      <td>0</td>\n",
       "      <td>0</td>\n",
       "    </tr>\n",
       "    <tr>\n",
       "      <th>2</th>\n",
       "      <td>435962603</td>\n",
       "      <td>Aaron Brown</td>\n",
       "      <td>CAN</td>\n",
       "      <td>male</td>\n",
       "      <td>5/27/92</td>\n",
       "      <td>1.98</td>\n",
       "      <td>79.0</td>\n",
       "      <td>athletics</td>\n",
       "      <td>0</td>\n",
       "      <td>0</td>\n",
       "      <td>1</td>\n",
       "    </tr>\n",
       "    <tr>\n",
       "      <th>3</th>\n",
       "      <td>521041435</td>\n",
       "      <td>Aaron Cook</td>\n",
       "      <td>MDA</td>\n",
       "      <td>male</td>\n",
       "      <td>1/2/91</td>\n",
       "      <td>1.83</td>\n",
       "      <td>80.0</td>\n",
       "      <td>taekwondo</td>\n",
       "      <td>0</td>\n",
       "      <td>0</td>\n",
       "      <td>0</td>\n",
       "    </tr>\n",
       "    <tr>\n",
       "      <th>4</th>\n",
       "      <td>33922579</td>\n",
       "      <td>Aaron Gate</td>\n",
       "      <td>NZL</td>\n",
       "      <td>male</td>\n",
       "      <td>11/26/90</td>\n",
       "      <td>1.81</td>\n",
       "      <td>71.0</td>\n",
       "      <td>cycling</td>\n",
       "      <td>0</td>\n",
       "      <td>0</td>\n",
       "      <td>0</td>\n",
       "    </tr>\n",
       "  </tbody>\n",
       "</table>\n",
       "</div>"
      ],
      "text/plain": [
       "          id            name nationality     sex       dob  height  weight  \\\n",
       "0  736041664  A Jesus Garcia         ESP    male  10/17/69    1.72    64.0   \n",
       "1  532037425      A Lam Shin         KOR  female   9/23/86    1.68    56.0   \n",
       "2  435962603     Aaron Brown         CAN    male   5/27/92    1.98    79.0   \n",
       "3  521041435      Aaron Cook         MDA    male    1/2/91    1.83    80.0   \n",
       "4   33922579      Aaron Gate         NZL    male  11/26/90    1.81    71.0   \n",
       "\n",
       "       sport  gold  silver  bronze  \n",
       "0  athletics     0       0       0  \n",
       "1    fencing     0       0       0  \n",
       "2  athletics     0       0       1  \n",
       "3  taekwondo     0       0       0  \n",
       "4    cycling     0       0       0  "
      ]
     },
     "execution_count": 2,
     "metadata": {},
     "output_type": "execute_result"
    }
   ],
   "source": [
    "data = pd.read_csv('athletes.csv')\n",
    "data.head()"
   ]
  },
  {
   "cell_type": "markdown",
   "id": "178cba86",
   "metadata": {},
   "source": [
    "### Очистка и преобразование данных"
   ]
  },
  {
   "cell_type": "code",
   "execution_count": 3,
   "id": "93484616",
   "metadata": {},
   "outputs": [
    {
     "name": "stdout",
     "output_type": "stream",
     "text": [
      "<class 'pandas.core.frame.DataFrame'>\n",
      "RangeIndex: 11538 entries, 0 to 11537\n",
      "Data columns (total 11 columns):\n",
      " #   Column       Non-Null Count  Dtype  \n",
      "---  ------       --------------  -----  \n",
      " 0   id           11538 non-null  int64  \n",
      " 1   name         11538 non-null  object \n",
      " 2   nationality  11538 non-null  object \n",
      " 3   sex          11538 non-null  object \n",
      " 4   dob          11537 non-null  object \n",
      " 5   height       11208 non-null  float64\n",
      " 6   weight       10879 non-null  float64\n",
      " 7   sport        11538 non-null  object \n",
      " 8   gold         11538 non-null  int64  \n",
      " 9   silver       11538 non-null  int64  \n",
      " 10  bronze       11538 non-null  int64  \n",
      "dtypes: float64(2), int64(4), object(5)\n",
      "memory usage: 991.7+ KB\n"
     ]
    }
   ],
   "source": [
    "data.info()"
   ]
  },
  {
   "cell_type": "code",
   "execution_count": 4,
   "id": "26bb0af9",
   "metadata": {},
   "outputs": [
    {
     "data": {
      "text/plain": [
       "0"
      ]
     },
     "execution_count": 4,
     "metadata": {},
     "output_type": "execute_result"
    }
   ],
   "source": [
    "data.duplicated().sum()"
   ]
  },
  {
   "cell_type": "code",
   "execution_count": 5,
   "id": "db19115a",
   "metadata": {
    "scrolled": true
   },
   "outputs": [
    {
     "data": {
      "text/html": [
       "<div>\n",
       "<style scoped>\n",
       "    .dataframe tbody tr th:only-of-type {\n",
       "        vertical-align: middle;\n",
       "    }\n",
       "\n",
       "    .dataframe tbody tr th {\n",
       "        vertical-align: top;\n",
       "    }\n",
       "\n",
       "    .dataframe thead th {\n",
       "        text-align: right;\n",
       "    }\n",
       "</style>\n",
       "<table border=\"1\" class=\"dataframe\">\n",
       "  <thead>\n",
       "    <tr style=\"text-align: right;\">\n",
       "      <th></th>\n",
       "      <th>id</th>\n",
       "      <th>name</th>\n",
       "      <th>nationality</th>\n",
       "      <th>sex</th>\n",
       "      <th>dob</th>\n",
       "      <th>height</th>\n",
       "      <th>weight</th>\n",
       "      <th>sport</th>\n",
       "      <th>gold</th>\n",
       "      <th>silver</th>\n",
       "      <th>bronze</th>\n",
       "    </tr>\n",
       "  </thead>\n",
       "  <tbody>\n",
       "    <tr>\n",
       "      <th>57</th>\n",
       "      <td>153457</td>\n",
       "      <td>Abdullahi Shehu</td>\n",
       "      <td>NGR</td>\n",
       "      <td>male</td>\n",
       "      <td>3/12/93</td>\n",
       "      <td>1.70</td>\n",
       "      <td>NaN</td>\n",
       "      <td>football</td>\n",
       "      <td>0</td>\n",
       "      <td>0</td>\n",
       "      <td>1</td>\n",
       "    </tr>\n",
       "    <tr>\n",
       "      <th>108</th>\n",
       "      <td>75289002</td>\n",
       "      <td>Adilbek Niyazymbetov</td>\n",
       "      <td>KAZ</td>\n",
       "      <td>male</td>\n",
       "      <td>5/19/89</td>\n",
       "      <td>1.80</td>\n",
       "      <td>NaN</td>\n",
       "      <td>boxing</td>\n",
       "      <td>0</td>\n",
       "      <td>1</td>\n",
       "      <td>0</td>\n",
       "    </tr>\n",
       "    <tr>\n",
       "      <th>552</th>\n",
       "      <td>791528062</td>\n",
       "      <td>Alonzo Russell</td>\n",
       "      <td>BAH</td>\n",
       "      <td>male</td>\n",
       "      <td>2/8/92</td>\n",
       "      <td>NaN</td>\n",
       "      <td>NaN</td>\n",
       "      <td>athletics</td>\n",
       "      <td>0</td>\n",
       "      <td>0</td>\n",
       "      <td>1</td>\n",
       "    </tr>\n",
       "    <tr>\n",
       "      <th>586</th>\n",
       "      <td>557518345</td>\n",
       "      <td>Amanda Kurtovic</td>\n",
       "      <td>NOR</td>\n",
       "      <td>female</td>\n",
       "      <td>7/25/91</td>\n",
       "      <td>1.75</td>\n",
       "      <td>NaN</td>\n",
       "      <td>handball</td>\n",
       "      <td>0</td>\n",
       "      <td>0</td>\n",
       "      <td>1</td>\n",
       "    </tr>\n",
       "    <tr>\n",
       "      <th>628</th>\n",
       "      <td>389896499</td>\n",
       "      <td>Aminu Umar</td>\n",
       "      <td>NGR</td>\n",
       "      <td>male</td>\n",
       "      <td>3/6/95</td>\n",
       "      <td>1.72</td>\n",
       "      <td>NaN</td>\n",
       "      <td>football</td>\n",
       "      <td>0</td>\n",
       "      <td>0</td>\n",
       "      <td>1</td>\n",
       "    </tr>\n",
       "    <tr>\n",
       "      <th>...</th>\n",
       "      <td>...</td>\n",
       "      <td>...</td>\n",
       "      <td>...</td>\n",
       "      <td>...</td>\n",
       "      <td>...</td>\n",
       "      <td>...</td>\n",
       "      <td>...</td>\n",
       "      <td>...</td>\n",
       "      <td>...</td>\n",
       "      <td>...</td>\n",
       "      <td>...</td>\n",
       "    </tr>\n",
       "    <tr>\n",
       "      <th>10919</th>\n",
       "      <td>610704045</td>\n",
       "      <td>Vladimir Nikitin</td>\n",
       "      <td>RUS</td>\n",
       "      <td>male</td>\n",
       "      <td>3/25/90</td>\n",
       "      <td>1.65</td>\n",
       "      <td>NaN</td>\n",
       "      <td>boxing</td>\n",
       "      <td>0</td>\n",
       "      <td>0</td>\n",
       "      <td>1</td>\n",
       "    </tr>\n",
       "    <tr>\n",
       "      <th>11014</th>\n",
       "      <td>213332524</td>\n",
       "      <td>William Ekong</td>\n",
       "      <td>NGR</td>\n",
       "      <td>male</td>\n",
       "      <td>9/1/93</td>\n",
       "      <td>1.75</td>\n",
       "      <td>NaN</td>\n",
       "      <td>football</td>\n",
       "      <td>0</td>\n",
       "      <td>0</td>\n",
       "      <td>1</td>\n",
       "    </tr>\n",
       "    <tr>\n",
       "      <th>11261</th>\n",
       "      <td>607223536</td>\n",
       "      <td>Yoel Segundo Finol</td>\n",
       "      <td>VEN</td>\n",
       "      <td>male</td>\n",
       "      <td>9/21/96</td>\n",
       "      <td>1.68</td>\n",
       "      <td>NaN</td>\n",
       "      <td>boxing</td>\n",
       "      <td>0</td>\n",
       "      <td>0</td>\n",
       "      <td>1</td>\n",
       "    </tr>\n",
       "    <tr>\n",
       "      <th>11370</th>\n",
       "      <td>86099624</td>\n",
       "      <td>Yulia Efimova</td>\n",
       "      <td>RUS</td>\n",
       "      <td>female</td>\n",
       "      <td>4/3/92</td>\n",
       "      <td>NaN</td>\n",
       "      <td>NaN</td>\n",
       "      <td>aquatics</td>\n",
       "      <td>0</td>\n",
       "      <td>2</td>\n",
       "      <td>0</td>\n",
       "    </tr>\n",
       "    <tr>\n",
       "      <th>11398</th>\n",
       "      <td>57329234</td>\n",
       "      <td>Yurberjen Herney Martinez</td>\n",
       "      <td>COL</td>\n",
       "      <td>male</td>\n",
       "      <td>11/1/91</td>\n",
       "      <td>1.65</td>\n",
       "      <td>NaN</td>\n",
       "      <td>boxing</td>\n",
       "      <td>0</td>\n",
       "      <td>1</td>\n",
       "      <td>0</td>\n",
       "    </tr>\n",
       "  </tbody>\n",
       "</table>\n",
       "<p>104 rows × 11 columns</p>\n",
       "</div>"
      ],
      "text/plain": [
       "              id                       name nationality     sex      dob  \\\n",
       "57        153457            Abdullahi Shehu         NGR    male  3/12/93   \n",
       "108     75289002       Adilbek Niyazymbetov         KAZ    male  5/19/89   \n",
       "552    791528062             Alonzo Russell         BAH    male   2/8/92   \n",
       "586    557518345            Amanda Kurtovic         NOR  female  7/25/91   \n",
       "628    389896499                 Aminu Umar         NGR    male   3/6/95   \n",
       "...          ...                        ...         ...     ...      ...   \n",
       "10919  610704045           Vladimir Nikitin         RUS    male  3/25/90   \n",
       "11014  213332524              William Ekong         NGR    male   9/1/93   \n",
       "11261  607223536         Yoel Segundo Finol         VEN    male  9/21/96   \n",
       "11370   86099624              Yulia Efimova         RUS  female   4/3/92   \n",
       "11398   57329234  Yurberjen Herney Martinez         COL    male  11/1/91   \n",
       "\n",
       "       height  weight      sport  gold  silver  bronze  \n",
       "57       1.70     NaN   football     0       0       1  \n",
       "108      1.80     NaN     boxing     0       1       0  \n",
       "552       NaN     NaN  athletics     0       0       1  \n",
       "586      1.75     NaN   handball     0       0       1  \n",
       "628      1.72     NaN   football     0       0       1  \n",
       "...       ...     ...        ...   ...     ...     ...  \n",
       "10919    1.65     NaN     boxing     0       0       1  \n",
       "11014    1.75     NaN   football     0       0       1  \n",
       "11261    1.68     NaN     boxing     0       0       1  \n",
       "11370     NaN     NaN   aquatics     0       2       0  \n",
       "11398    1.65     NaN     boxing     0       1       0  \n",
       "\n",
       "[104 rows x 11 columns]"
      ]
     },
     "execution_count": 5,
     "metadata": {},
     "output_type": "execute_result"
    }
   ],
   "source": [
    "data[(data['weight'].isna() | data['height'].isna()) & ((data['gold'] != 0) | (data['silver'] != 0) | (data['bronze'] != 0))]"
   ]
  },
  {
   "cell_type": "markdown",
   "id": "5f7142c8",
   "metadata": {},
   "source": [
    "#### Мы видим, что данные по росту и весу отсутствуют у 104 медалистов олимпиады. Так как всего на Олимпиаде было разыграно 306 комплектов наград, то удалив записи с пропусками, мы лишимся 11,5% всех, необходимых нам записей."
   ]
  },
  {
   "cell_type": "markdown",
   "id": "c0fa8203",
   "metadata": {},
   "source": [
    "Для роста пропуски заменим средним с группировкой по полу и виду спорта"
   ]
  },
  {
   "cell_type": "code",
   "execution_count": 6,
   "id": "68ffb192",
   "metadata": {},
   "outputs": [],
   "source": [
    "data['height'] = data.groupby(['sex', 'sport'], sort=False)['height'].apply(lambda x: x.fillna(round(x.mean(),2)))"
   ]
  },
  {
   "cell_type": "markdown",
   "id": "1fa7d457",
   "metadata": {},
   "source": [
    "Так как для бокса у нас отсутствуют данные о весе спортсменов, то заменим данные на основе пола и роста"
   ]
  },
  {
   "cell_type": "code",
   "execution_count": 7,
   "id": "88811cb9",
   "metadata": {},
   "outputs": [],
   "source": [
    "data['weight'] = data.groupby(['sex', 'height'], sort=False)['weight'].apply(lambda x: x.fillna(round(x.mean(), 1)))"
   ]
  },
  {
   "cell_type": "code",
   "execution_count": 8,
   "id": "61cfc035",
   "metadata": {},
   "outputs": [
    {
     "data": {
      "text/html": [
       "<div>\n",
       "<style scoped>\n",
       "    .dataframe tbody tr th:only-of-type {\n",
       "        vertical-align: middle;\n",
       "    }\n",
       "\n",
       "    .dataframe tbody tr th {\n",
       "        vertical-align: top;\n",
       "    }\n",
       "\n",
       "    .dataframe thead th {\n",
       "        text-align: right;\n",
       "    }\n",
       "</style>\n",
       "<table border=\"1\" class=\"dataframe\">\n",
       "  <thead>\n",
       "    <tr style=\"text-align: right;\">\n",
       "      <th></th>\n",
       "      <th>id</th>\n",
       "      <th>name</th>\n",
       "      <th>nationality</th>\n",
       "      <th>sex</th>\n",
       "      <th>dob</th>\n",
       "      <th>height</th>\n",
       "      <th>weight</th>\n",
       "      <th>sport</th>\n",
       "      <th>gold</th>\n",
       "      <th>silver</th>\n",
       "      <th>bronze</th>\n",
       "    </tr>\n",
       "  </thead>\n",
       "  <tbody>\n",
       "    <tr>\n",
       "      <th>8546</th>\n",
       "      <td>663676373</td>\n",
       "      <td>Pavel Sozykin</td>\n",
       "      <td>RUS</td>\n",
       "      <td>male</td>\n",
       "      <td>NaN</td>\n",
       "      <td>1.81</td>\n",
       "      <td>77.6</td>\n",
       "      <td>sailing</td>\n",
       "      <td>0</td>\n",
       "      <td>0</td>\n",
       "      <td>0</td>\n",
       "    </tr>\n",
       "  </tbody>\n",
       "</table>\n",
       "</div>"
      ],
      "text/plain": [
       "             id           name nationality   sex  dob  height  weight  \\\n",
       "8546  663676373  Pavel Sozykin         RUS  male  NaN    1.81    77.6   \n",
       "\n",
       "        sport  gold  silver  bronze  \n",
       "8546  sailing     0       0       0  "
      ]
     },
     "execution_count": 8,
     "metadata": {},
     "output_type": "execute_result"
    }
   ],
   "source": [
    "data[data['dob'].isna()]"
   ]
  },
  {
   "cell_type": "markdown",
   "id": "03bc403f",
   "metadata": {},
   "source": [
    "Остаётся одна запись с пропущенными значениями с id 663676373, удалим её"
   ]
  },
  {
   "cell_type": "code",
   "execution_count": 9,
   "id": "26e54af5",
   "metadata": {},
   "outputs": [],
   "source": [
    "data.dropna(axis=0, inplace=True)"
   ]
  },
  {
   "cell_type": "code",
   "execution_count": 10,
   "id": "cb46f2f4",
   "metadata": {},
   "outputs": [
    {
     "name": "stdout",
     "output_type": "stream",
     "text": [
      "<class 'pandas.core.frame.DataFrame'>\n",
      "Int64Index: 11537 entries, 0 to 11537\n",
      "Data columns (total 11 columns):\n",
      " #   Column       Non-Null Count  Dtype  \n",
      "---  ------       --------------  -----  \n",
      " 0   id           11537 non-null  int64  \n",
      " 1   name         11537 non-null  object \n",
      " 2   nationality  11537 non-null  object \n",
      " 3   sex          11537 non-null  object \n",
      " 4   dob          11537 non-null  object \n",
      " 5   height       11537 non-null  float64\n",
      " 6   weight       11537 non-null  float64\n",
      " 7   sport        11537 non-null  object \n",
      " 8   gold         11537 non-null  int64  \n",
      " 9   silver       11537 non-null  int64  \n",
      " 10  bronze       11537 non-null  int64  \n",
      "dtypes: float64(2), int64(4), object(5)\n",
      "memory usage: 1.1+ MB\n"
     ]
    }
   ],
   "source": [
    "data.info()"
   ]
  },
  {
   "cell_type": "markdown",
   "id": "18ad9ae7",
   "metadata": {},
   "source": [
    "Заменим дату рождения спортсмена на его возраст"
   ]
  },
  {
   "cell_type": "code",
   "execution_count": 11,
   "id": "7d0fe0c8",
   "metadata": {},
   "outputs": [],
   "source": [
    "data['dob'] = data['dob'].apply(lambda x: 116 - int(x.split('/')[2]))"
   ]
  },
  {
   "cell_type": "markdown",
   "id": "c7c85587",
   "metadata": {},
   "source": [
    "Имя спортсмена и его id не несут пользы для нас, поэтому удалим их"
   ]
  },
  {
   "cell_type": "code",
   "execution_count": 12,
   "id": "0b069c74",
   "metadata": {},
   "outputs": [],
   "source": [
    "data = data.drop(columns = ['id', 'name'])"
   ]
  },
  {
   "cell_type": "markdown",
   "id": "d88f473a",
   "metadata": {},
   "source": [
    "Категориальный признак sex бинарен, поэтому для его преобразования используем функцию LabelEncoder, для nationality и sport применим функцию OneHotEncoder"
   ]
  },
  {
   "cell_type": "code",
   "execution_count": 13,
   "id": "f8306cee",
   "metadata": {},
   "outputs": [],
   "source": [
    "data['sex'] = LabelEncoder().fit_transform(data['sex'])"
   ]
  },
  {
   "cell_type": "code",
   "execution_count": 14,
   "id": "b6bcb0bd",
   "metadata": {},
   "outputs": [],
   "source": [
    "onehotencoder = OneHotEncoder()\n",
    "sport = onehotencoder.fit_transform(data[['sport']]).toarray()\n",
    "sport = pd.DataFrame(sport, columns=onehotencoder.categories_[0])\n",
    "nationality = onehotencoder.fit_transform(data[['nationality']]).toarray()\n",
    "nationality = pd.DataFrame(nationality, columns=onehotencoder.categories_[0])\n",
    "data = pd.concat([sport, nationality, data], axis=1)\n",
    "data = data.drop(columns = ['sport', 'nationality'])\n",
    "data.dropna(axis=0, inplace=True)"
   ]
  },
  {
   "cell_type": "code",
   "execution_count": 15,
   "id": "5457335f",
   "metadata": {},
   "outputs": [
    {
     "data": {
      "text/html": [
       "<div>\n",
       "<style scoped>\n",
       "    .dataframe tbody tr th:only-of-type {\n",
       "        vertical-align: middle;\n",
       "    }\n",
       "\n",
       "    .dataframe tbody tr th {\n",
       "        vertical-align: top;\n",
       "    }\n",
       "\n",
       "    .dataframe thead th {\n",
       "        text-align: right;\n",
       "    }\n",
       "</style>\n",
       "<table border=\"1\" class=\"dataframe\">\n",
       "  <thead>\n",
       "    <tr style=\"text-align: right;\">\n",
       "      <th></th>\n",
       "      <th>aquatics</th>\n",
       "      <th>archery</th>\n",
       "      <th>athletics</th>\n",
       "      <th>badminton</th>\n",
       "      <th>basketball</th>\n",
       "      <th>boxing</th>\n",
       "      <th>canoe</th>\n",
       "      <th>cycling</th>\n",
       "      <th>equestrian</th>\n",
       "      <th>fencing</th>\n",
       "      <th>...</th>\n",
       "      <th>YEM</th>\n",
       "      <th>ZAM</th>\n",
       "      <th>ZIM</th>\n",
       "      <th>sex</th>\n",
       "      <th>dob</th>\n",
       "      <th>height</th>\n",
       "      <th>weight</th>\n",
       "      <th>gold</th>\n",
       "      <th>silver</th>\n",
       "      <th>bronze</th>\n",
       "    </tr>\n",
       "  </thead>\n",
       "  <tbody>\n",
       "    <tr>\n",
       "      <th>0</th>\n",
       "      <td>0.0</td>\n",
       "      <td>0.0</td>\n",
       "      <td>1.0</td>\n",
       "      <td>0.0</td>\n",
       "      <td>0.0</td>\n",
       "      <td>0.0</td>\n",
       "      <td>0.0</td>\n",
       "      <td>0.0</td>\n",
       "      <td>0.0</td>\n",
       "      <td>0.0</td>\n",
       "      <td>...</td>\n",
       "      <td>0.0</td>\n",
       "      <td>0.0</td>\n",
       "      <td>0.0</td>\n",
       "      <td>1.0</td>\n",
       "      <td>47.0</td>\n",
       "      <td>1.72</td>\n",
       "      <td>64.0</td>\n",
       "      <td>0.0</td>\n",
       "      <td>0.0</td>\n",
       "      <td>0.0</td>\n",
       "    </tr>\n",
       "    <tr>\n",
       "      <th>1</th>\n",
       "      <td>0.0</td>\n",
       "      <td>0.0</td>\n",
       "      <td>0.0</td>\n",
       "      <td>0.0</td>\n",
       "      <td>0.0</td>\n",
       "      <td>0.0</td>\n",
       "      <td>0.0</td>\n",
       "      <td>0.0</td>\n",
       "      <td>0.0</td>\n",
       "      <td>1.0</td>\n",
       "      <td>...</td>\n",
       "      <td>0.0</td>\n",
       "      <td>0.0</td>\n",
       "      <td>0.0</td>\n",
       "      <td>0.0</td>\n",
       "      <td>30.0</td>\n",
       "      <td>1.68</td>\n",
       "      <td>56.0</td>\n",
       "      <td>0.0</td>\n",
       "      <td>0.0</td>\n",
       "      <td>0.0</td>\n",
       "    </tr>\n",
       "    <tr>\n",
       "      <th>2</th>\n",
       "      <td>0.0</td>\n",
       "      <td>0.0</td>\n",
       "      <td>1.0</td>\n",
       "      <td>0.0</td>\n",
       "      <td>0.0</td>\n",
       "      <td>0.0</td>\n",
       "      <td>0.0</td>\n",
       "      <td>0.0</td>\n",
       "      <td>0.0</td>\n",
       "      <td>0.0</td>\n",
       "      <td>...</td>\n",
       "      <td>0.0</td>\n",
       "      <td>0.0</td>\n",
       "      <td>0.0</td>\n",
       "      <td>1.0</td>\n",
       "      <td>24.0</td>\n",
       "      <td>1.98</td>\n",
       "      <td>79.0</td>\n",
       "      <td>0.0</td>\n",
       "      <td>0.0</td>\n",
       "      <td>1.0</td>\n",
       "    </tr>\n",
       "    <tr>\n",
       "      <th>3</th>\n",
       "      <td>0.0</td>\n",
       "      <td>0.0</td>\n",
       "      <td>0.0</td>\n",
       "      <td>0.0</td>\n",
       "      <td>0.0</td>\n",
       "      <td>0.0</td>\n",
       "      <td>0.0</td>\n",
       "      <td>0.0</td>\n",
       "      <td>0.0</td>\n",
       "      <td>0.0</td>\n",
       "      <td>...</td>\n",
       "      <td>0.0</td>\n",
       "      <td>0.0</td>\n",
       "      <td>0.0</td>\n",
       "      <td>1.0</td>\n",
       "      <td>25.0</td>\n",
       "      <td>1.83</td>\n",
       "      <td>80.0</td>\n",
       "      <td>0.0</td>\n",
       "      <td>0.0</td>\n",
       "      <td>0.0</td>\n",
       "    </tr>\n",
       "    <tr>\n",
       "      <th>4</th>\n",
       "      <td>0.0</td>\n",
       "      <td>0.0</td>\n",
       "      <td>0.0</td>\n",
       "      <td>0.0</td>\n",
       "      <td>0.0</td>\n",
       "      <td>0.0</td>\n",
       "      <td>0.0</td>\n",
       "      <td>1.0</td>\n",
       "      <td>0.0</td>\n",
       "      <td>0.0</td>\n",
       "      <td>...</td>\n",
       "      <td>0.0</td>\n",
       "      <td>0.0</td>\n",
       "      <td>0.0</td>\n",
       "      <td>1.0</td>\n",
       "      <td>26.0</td>\n",
       "      <td>1.81</td>\n",
       "      <td>71.0</td>\n",
       "      <td>0.0</td>\n",
       "      <td>0.0</td>\n",
       "      <td>0.0</td>\n",
       "    </tr>\n",
       "  </tbody>\n",
       "</table>\n",
       "<p>5 rows × 242 columns</p>\n",
       "</div>"
      ],
      "text/plain": [
       "   aquatics  archery  athletics  badminton  basketball  boxing  canoe  \\\n",
       "0       0.0      0.0        1.0        0.0         0.0     0.0    0.0   \n",
       "1       0.0      0.0        0.0        0.0         0.0     0.0    0.0   \n",
       "2       0.0      0.0        1.0        0.0         0.0     0.0    0.0   \n",
       "3       0.0      0.0        0.0        0.0         0.0     0.0    0.0   \n",
       "4       0.0      0.0        0.0        0.0         0.0     0.0    0.0   \n",
       "\n",
       "   cycling  equestrian  fencing  ...  YEM  ZAM  ZIM  sex   dob  height  \\\n",
       "0      0.0         0.0      0.0  ...  0.0  0.0  0.0  1.0  47.0    1.72   \n",
       "1      0.0         0.0      1.0  ...  0.0  0.0  0.0  0.0  30.0    1.68   \n",
       "2      0.0         0.0      0.0  ...  0.0  0.0  0.0  1.0  24.0    1.98   \n",
       "3      0.0         0.0      0.0  ...  0.0  0.0  0.0  1.0  25.0    1.83   \n",
       "4      1.0         0.0      0.0  ...  0.0  0.0  0.0  1.0  26.0    1.81   \n",
       "\n",
       "   weight  gold  silver  bronze  \n",
       "0    64.0   0.0     0.0     0.0  \n",
       "1    56.0   0.0     0.0     0.0  \n",
       "2    79.0   0.0     0.0     1.0  \n",
       "3    80.0   0.0     0.0     0.0  \n",
       "4    71.0   0.0     0.0     0.0  \n",
       "\n",
       "[5 rows x 242 columns]"
      ]
     },
     "execution_count": 15,
     "metadata": {},
     "output_type": "execute_result"
    }
   ],
   "source": [
    "data.head()"
   ]
  },
  {
   "cell_type": "code",
   "execution_count": 16,
   "id": "7e39adf8",
   "metadata": {},
   "outputs": [],
   "source": [
    "X = data[data.columns[:-3]]\n",
    "y = data[['gold', 'silver', 'bronze']].apply(lambda x: 1 if ((x['gold'] > 0) | (x['silver'] > 0) | (x['bronze'] > 0)) else 0, axis=1)"
   ]
  },
  {
   "cell_type": "code",
   "execution_count": 17,
   "id": "625ad722",
   "metadata": {},
   "outputs": [],
   "source": [
    "X_train, X_test, y_train, y_test = train_test_split(X, y, test_size=0.2, random_state=72)"
   ]
  },
  {
   "cell_type": "code",
   "execution_count": 18,
   "id": "fd891e0c",
   "metadata": {},
   "outputs": [
    {
     "data": {
      "text/plain": [
       "LogisticRegression(solver='newton-cg')"
      ]
     },
     "execution_count": 18,
     "metadata": {},
     "output_type": "execute_result"
    }
   ],
   "source": [
    "model = LogisticRegression(solver = 'newton-cg')\n",
    "model.fit(X_train, y_train)"
   ]
  },
  {
   "cell_type": "code",
   "execution_count": 19,
   "id": "e91b7f98",
   "metadata": {},
   "outputs": [],
   "source": [
    "predictions = model.predict_proba(X_test)"
   ]
  },
  {
   "cell_type": "code",
   "execution_count": 20,
   "id": "4512485f",
   "metadata": {},
   "outputs": [
    {
     "data": {
      "text/plain": [
       "0.8397269180754227"
      ]
     },
     "execution_count": 20,
     "metadata": {},
     "output_type": "execute_result"
    }
   ],
   "source": [
    "model.score(X_train, y_train)"
   ]
  },
  {
   "cell_type": "code",
   "execution_count": 21,
   "id": "cce071c4",
   "metadata": {},
   "outputs": [
    {
     "data": {
      "text/plain": [
       "0.8448873483535528"
      ]
     },
     "execution_count": 21,
     "metadata": {},
     "output_type": "execute_result"
    }
   ],
   "source": [
    "model.score(X_test, y_test)"
   ]
  },
  {
   "cell_type": "code",
   "execution_count": 22,
   "id": "1671c599",
   "metadata": {},
   "outputs": [],
   "source": [
    "fpr, tpr, thres = roc_curve(y_test, predictions[:, 1])"
   ]
  },
  {
   "cell_type": "markdown",
   "id": "e5202513",
   "metadata": {},
   "source": [
    "### Построение ROC-кривой с помощью функции sklearn metrics.roc_curve"
   ]
  },
  {
   "cell_type": "markdown",
   "id": "87987b6d",
   "metadata": {},
   "source": [
    "Зададим данные для диагонального вектора, в качестве примера для сравнения"
   ]
  },
  {
   "cell_type": "code",
   "execution_count": 23,
   "id": "fcd7073a",
   "metadata": {},
   "outputs": [],
   "source": [
    "x_diag = [[0],[0.5],[1]]\n",
    "y_diag = [[0],[0.5],[1]]"
   ]
  },
  {
   "cell_type": "code",
   "execution_count": 24,
   "id": "0af0d4c1",
   "metadata": {},
   "outputs": [
    {
     "data": {
      "image/png": "[encoded data removed]",
      "text/plain": [
       "<Figure size 576x576 with 1 Axes>"
      ]
     },
     "metadata": {
      "needs_background": "light"
     },
     "output_type": "display_data"
    }
   ],
   "source": [
    "plt.figure(figsize=(8,8))\n",
    "plt.xlabel('FPR')\n",
    "plt.ylabel('TPR')\n",
    "plt.title('ROC')\n",
    "plt.plot(x_diag, y_diag, color='gray', alpha=0.5)\n",
    "plt.plot(fpr, tpr)\n",
    "plt.grid()"
   ]
  },
  {
   "cell_type": "markdown",
   "id": "1f7f2310",
   "metadata": {},
   "source": [
    "### Вычисление значения ROC-AUC метрики с помощью функции sklearn metrics.roc_auc_score"
   ]
  },
  {
   "cell_type": "code",
   "execution_count": 25,
   "id": "d67a68a1",
   "metadata": {},
   "outputs": [
    {
     "data": {
      "text/plain": [
       "0.6979785523174892"
      ]
     },
     "execution_count": 25,
     "metadata": {},
     "output_type": "execute_result"
    }
   ],
   "source": [
    "roc_auc_score(y_test, predictions[:, 1])"
   ]
  },
  {
   "cell_type": "markdown",
   "id": "1a09b68e",
   "metadata": {},
   "source": [
    "### Подсчитаем метрики TPR, FPR вручную без импорта функций"
   ]
  },
  {
   "cell_type": "code",
   "execution_count": 26,
   "id": "8536e259",
   "metadata": {},
   "outputs": [],
   "source": [
    "def tpr_fpr(threshold, y_test):\n",
    "    \"\"\"\n",
    "    Функция сравнивает предсказанные значения и значения из тестовой выборки\n",
    "    в зависимости от значений, относит результаты в соответствии с матрицей ошибок\n",
    "    \"\"\"\n",
    "    tp = np.equal(threshold, 1) & np.equal(y_test, 1)\n",
    "    tn = np.equal(threshold, 0) & np.equal(y_test, 0)\n",
    "    fp = np.equal(threshold, 1) & np.equal(y_test, 0)\n",
    "    fn = np.equal(threshold, 0) & np.equal(y_test, 1)\n",
    "    \n",
    "    tpr = tp.sum() / (tp.sum() + fn.sum())\n",
    "    fpr = fp.sum() / (fp.sum() + tn.sum())\n",
    "    if tp.sum() + fp.sum() != 0:\n",
    "        precision = tp.sum() / (tp.sum() + fp.sum())\n",
    "    else:\n",
    "        precision = 0\n",
    "\n",
    "    return tpr, fpr, precision"
   ]
  },
  {
   "cell_type": "code",
   "execution_count": 27,
   "id": "42f1cc5b",
   "metadata": {},
   "outputs": [],
   "source": [
    "def roc(probabilities, y_test, iter):\n",
    "    \"\"\"\n",
    "    Функция считает roc\n",
    "    \"\"\"\n",
    "    roc = np.array([])\n",
    "    for i in range(iter + 1):\n",
    "        threshold = np.greater_equal(probabilities, i / iter).astype(int)\n",
    "        tpr, fpr, precision = tpr_fpr(threshold, y_test)\n",
    "        roc = np.append(roc, [fpr, tpr, precision])\n",
    "\n",
    "    return roc.reshape(-1, 3)"
   ]
  },
  {
   "cell_type": "code",
   "execution_count": 28,
   "id": "2af070e3",
   "metadata": {
    "scrolled": true
   },
   "outputs": [],
   "source": [
    "iter = 200\n",
    "ROC = roc(predictions[:, 1], y_test, iter)"
   ]
  },
  {
   "cell_type": "markdown",
   "id": "46586128",
   "metadata": {},
   "source": [
    "### Построение ROC-кривых вычисленных самостоятельно и с помощью библиотеки metrics.roc_curve"
   ]
  },
  {
   "cell_type": "code",
   "execution_count": 29,
   "id": "92cf2c4d",
   "metadata": {},
   "outputs": [
    {
     "data": {
      "text/plain": [
       "<matplotlib.legend.Legend at 0x286cc692e50>"
      ]
     },
     "execution_count": 29,
     "metadata": {},
     "output_type": "execute_result"
    },
    {
     "data": {
      "image/png": "[encoded data removed]",
      "text/plain": [
       "<Figure size 1080x1080 with 1 Axes>"
      ]
     },
     "metadata": {
      "needs_background": "light"
     },
     "output_type": "display_data"
    }
   ],
   "source": [
    "plt.figure(figsize=(15,15))\n",
    "plt.plot(ROC[:,0],ROC[:,1], color='blue', label='Вычесленный ROC')\n",
    "plt.plot(fpr, tpr, color='red', alpha=0.5, label='Библиотечный ROC')\n",
    "plt.plot(x_diag, y_diag, color='gray', alpha=0.5)\n",
    "plt.title('Графики библиотечной и подсчитанной ROC')\n",
    "plt.xlabel('FPR')\n",
    "plt.ylabel('TPR')\n",
    "plt.grid()\n",
    "plt.legend()"
   ]
  },
  {
   "cell_type": "markdown",
   "id": "d0c8fddf",
   "metadata": {},
   "source": [
    "**Промежуточный вывод:** Графики посчитанные с помощью библитечной функции ROC и посчитанные самостоятельно совпадают почти на всём протяжении"
   ]
  },
  {
   "cell_type": "markdown",
   "id": "231390d0",
   "metadata": {},
   "source": [
    "### Построение график Precision-Recall, используя метрики"
   ]
  },
  {
   "cell_type": "code",
   "execution_count": 30,
   "id": "1968bab4",
   "metadata": {},
   "outputs": [
    {
     "data": {
      "image/png": "[encoded data removed]",
      "text/plain": [
       "<Figure size 576x576 with 1 Axes>"
      ]
     },
     "metadata": {
      "needs_background": "light"
     },
     "output_type": "display_data"
    }
   ],
   "source": [
    "plt.figure(figsize=(8,8))\n",
    "plt.plot(ROC[:,2], ROC[:,1], color='blue')\n",
    "plt.xlabel('Precision')\n",
    "plt.ylabel('Recall')\n",
    "plt.title('Precision-Recall')\n",
    "plt.grid()"
   ]
  },
  {
   "cell_type": "markdown",
   "id": "2afbaf04",
   "metadata": {},
   "source": [
    "### Вычислите значение ROC-AUC метрики"
   ]
  },
  {
   "cell_type": "code",
   "execution_count": 31,
   "id": "c34d7d1d",
   "metadata": {},
   "outputs": [
    {
     "data": {
      "text/plain": [
       "0.6976951313616465"
      ]
     },
     "execution_count": 31,
     "metadata": {},
     "output_type": "execute_result"
    }
   ],
   "source": [
    "auc(ROC[:,0],ROC[:,1])"
   ]
  },
  {
   "cell_type": "markdown",
   "id": "5aa78bc4",
   "metadata": {},
   "source": [
    "### Выводы:\n",
    "\n",
    "**a)** На основании построенных графиков мы можем сказать, что модель показала неплохое качество. Если основываться только на метриках, то можно сказать, что модель хорошо справилась с задачей, так как мы предсказывали результат в виде спорта только на основании пола, национальности, возраста веса и роста спортсммена.\n",
    "\n",
    "**b)** График может идти ниже диагональной линии, в случае, когда модель предсказывает хорошо FPR, но данных для предсказания TPR (классы сильно несбалансированы) модели будет недостаточно. Например, если мы будем предсказывать получение только золотой медали для всех спортсменов(негативных исходов у нас будет около 11 тысяч, а положительных - 666)"
   ]
  }
 ],
 "metadata": {
  "kernelspec": {
   "display_name": "Python 3 (ipykernel)",
   "language": "python",
   "name": "python3"
  },
  "language_info": {
   "codemirror_mode": {
    "name": "ipython",
    "version": 3
   },
   "file_extension": ".py",
   "mimetype": "text/x-python",
   "name": "python",
   "nbconvert_exporter": "python",
   "pygments_lexer": "ipython3",
   "version": "3.9.7"
  }
 },
 "nbformat": 4,
 "nbformat_minor": 5
}
