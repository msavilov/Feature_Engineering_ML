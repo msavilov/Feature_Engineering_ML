{
 "cells": [
  {
   "cell_type": "markdown",
   "id": "7320490e",
   "metadata": {},
   "source": [
    "### Задание\n",
    "\n",
    "Решить задачу классификации типа стекол. Данные для обучения моделей можно скачать с сайта. Целевая переменная – тип стекла «Type». Остальные признаки описывают химические элементы в составе материала. Датасет нужно исследовать на наличие выбросов, провести EDA.\n",
    "\n",
    "### Этапы работы:\n",
    "\n",
    "1) Получите данные и загрузите их в рабочую среду.\n",
    "\n",
    "2) Проведите первичный анализ.\n",
    "**а)** Проверьте количество записей для каждого класса. Сделайте вывод.\n",
    "\n",
    "3) Разделите выборку на обучающее и тестовое подмножество. 80% данных оставить на обучающее множество, 20% на тестовое.\n",
    "\n",
    "4) Обучите модель дерева решений RandomForestClassifier на обучающем множестве.\n",
    "\n",
    "5) Для тестового множества предскажите тип стекла и сравните с истинным значением, посчитав точность предсказания модели (accuracy).\n",
    "\n",
    "6) Обработайте выбросы в данных.\n",
    "**а)** Визуализируйте распределение значений для каждой переменной. Можно использовать функции sns.boxplot, sns.distplot.  Есть ли признаки с нормальным распределением?\n",
    "**b)** Исследуйте признаки на выбросы несколькими способами.\n",
    "**c)** Удалите выбросы. *Посчитайте процент удаленных записей от общего числа записей для каждого класса.\n",
    "\n",
    "7) Повторите п. 4, п. 5.\n",
    "\n",
    "8) Сформулируйте выводы по проделанной работе.\n",
    "**а)** Кратко опишите, какие преобразования были сделаны с данными.\n",
    "**b)** Сравните точность двух моделей.\n",
    "**c)** Напишите свое мнение, нужно ли исследовать данные на выбросы, для чего это делается, плюсы и минусы подхода."
   ]
  },
  {
   "cell_type": "code",
   "execution_count": 66,
   "id": "cf04bc70",
   "metadata": {},
   "outputs": [],
   "source": [
    "import pandas as pd\n",
    "import numpy as np\n",
    "import matplotlib.pyplot as plt\n",
    "import seaborn as sns\n",
    "\n",
    "from scipy.stats import shapiro\n",
    "from sklearn.metrics import accuracy_score\n",
    "from sklearn.model_selection import train_test_split\n",
    "from sklearn.ensemble import RandomForestClassifier"
   ]
  },
  {
   "cell_type": "code",
   "execution_count": 2,
   "id": "c24169ff",
   "metadata": {},
   "outputs": [
    {
     "data": {
      "text/html": [
       "<div>\n",
       "<style scoped>\n",
       "    .dataframe tbody tr th:only-of-type {\n",
       "        vertical-align: middle;\n",
       "    }\n",
       "\n",
       "    .dataframe tbody tr th {\n",
       "        vertical-align: top;\n",
       "    }\n",
       "\n",
       "    .dataframe thead th {\n",
       "        text-align: right;\n",
       "    }\n",
       "</style>\n",
       "<table border=\"1\" class=\"dataframe\">\n",
       "  <thead>\n",
       "    <tr style=\"text-align: right;\">\n",
       "      <th></th>\n",
       "      <th>RI</th>\n",
       "      <th>Na</th>\n",
       "      <th>Mg</th>\n",
       "      <th>Al</th>\n",
       "      <th>Si</th>\n",
       "      <th>K</th>\n",
       "      <th>Ca</th>\n",
       "      <th>Ba</th>\n",
       "      <th>Fe</th>\n",
       "      <th>Type</th>\n",
       "    </tr>\n",
       "  </thead>\n",
       "  <tbody>\n",
       "    <tr>\n",
       "      <th>0</th>\n",
       "      <td>1.52101</td>\n",
       "      <td>13.64</td>\n",
       "      <td>4.49</td>\n",
       "      <td>1.10</td>\n",
       "      <td>71.78</td>\n",
       "      <td>0.06</td>\n",
       "      <td>8.75</td>\n",
       "      <td>0.0</td>\n",
       "      <td>0.0</td>\n",
       "      <td>1</td>\n",
       "    </tr>\n",
       "    <tr>\n",
       "      <th>1</th>\n",
       "      <td>1.51761</td>\n",
       "      <td>13.89</td>\n",
       "      <td>3.60</td>\n",
       "      <td>1.36</td>\n",
       "      <td>72.73</td>\n",
       "      <td>0.48</td>\n",
       "      <td>7.83</td>\n",
       "      <td>0.0</td>\n",
       "      <td>0.0</td>\n",
       "      <td>1</td>\n",
       "    </tr>\n",
       "    <tr>\n",
       "      <th>2</th>\n",
       "      <td>1.51618</td>\n",
       "      <td>13.53</td>\n",
       "      <td>3.55</td>\n",
       "      <td>1.54</td>\n",
       "      <td>72.99</td>\n",
       "      <td>0.39</td>\n",
       "      <td>7.78</td>\n",
       "      <td>0.0</td>\n",
       "      <td>0.0</td>\n",
       "      <td>1</td>\n",
       "    </tr>\n",
       "    <tr>\n",
       "      <th>3</th>\n",
       "      <td>1.51766</td>\n",
       "      <td>13.21</td>\n",
       "      <td>3.69</td>\n",
       "      <td>1.29</td>\n",
       "      <td>72.61</td>\n",
       "      <td>0.57</td>\n",
       "      <td>8.22</td>\n",
       "      <td>0.0</td>\n",
       "      <td>0.0</td>\n",
       "      <td>1</td>\n",
       "    </tr>\n",
       "    <tr>\n",
       "      <th>4</th>\n",
       "      <td>1.51742</td>\n",
       "      <td>13.27</td>\n",
       "      <td>3.62</td>\n",
       "      <td>1.24</td>\n",
       "      <td>73.08</td>\n",
       "      <td>0.55</td>\n",
       "      <td>8.07</td>\n",
       "      <td>0.0</td>\n",
       "      <td>0.0</td>\n",
       "      <td>1</td>\n",
       "    </tr>\n",
       "  </tbody>\n",
       "</table>\n",
       "</div>"
      ],
      "text/plain": [
       "        RI     Na    Mg    Al     Si     K    Ca   Ba   Fe  Type\n",
       "0  1.52101  13.64  4.49  1.10  71.78  0.06  8.75  0.0  0.0     1\n",
       "1  1.51761  13.89  3.60  1.36  72.73  0.48  7.83  0.0  0.0     1\n",
       "2  1.51618  13.53  3.55  1.54  72.99  0.39  7.78  0.0  0.0     1\n",
       "3  1.51766  13.21  3.69  1.29  72.61  0.57  8.22  0.0  0.0     1\n",
       "4  1.51742  13.27  3.62  1.24  73.08  0.55  8.07  0.0  0.0     1"
      ]
     },
     "execution_count": 2,
     "metadata": {},
     "output_type": "execute_result"
    }
   ],
   "source": [
    "data = pd.read_csv('glass.csv')\n",
    "data.head()"
   ]
  },
  {
   "cell_type": "code",
   "execution_count": 3,
   "id": "0cd4899f",
   "metadata": {},
   "outputs": [
    {
     "data": {
      "text/plain": [
       "1"
      ]
     },
     "execution_count": 3,
     "metadata": {},
     "output_type": "execute_result"
    }
   ],
   "source": [
    "data.duplicated().sum()"
   ]
  },
  {
   "cell_type": "code",
   "execution_count": 4,
   "id": "846abf72",
   "metadata": {},
   "outputs": [],
   "source": [
    "data = data.drop_duplicates()"
   ]
  },
  {
   "cell_type": "code",
   "execution_count": 5,
   "id": "93d118b9",
   "metadata": {},
   "outputs": [
    {
     "name": "stdout",
     "output_type": "stream",
     "text": [
      "<class 'pandas.core.frame.DataFrame'>\n",
      "Int64Index: 213 entries, 0 to 213\n",
      "Data columns (total 10 columns):\n",
      " #   Column  Non-Null Count  Dtype  \n",
      "---  ------  --------------  -----  \n",
      " 0   RI      213 non-null    float64\n",
      " 1   Na      213 non-null    float64\n",
      " 2   Mg      213 non-null    float64\n",
      " 3   Al      213 non-null    float64\n",
      " 4   Si      213 non-null    float64\n",
      " 5   K       213 non-null    float64\n",
      " 6   Ca      213 non-null    float64\n",
      " 7   Ba      213 non-null    float64\n",
      " 8   Fe      213 non-null    float64\n",
      " 9   Type    213 non-null    int64  \n",
      "dtypes: float64(9), int64(1)\n",
      "memory usage: 18.3 KB\n"
     ]
    }
   ],
   "source": [
    "data.info()"
   ]
  },
  {
   "cell_type": "markdown",
   "id": "b50211c5",
   "metadata": {},
   "source": [
    "### Первичный анализ"
   ]
  },
  {
   "cell_type": "code",
   "execution_count": 7,
   "id": "1dda96ed",
   "metadata": {},
   "outputs": [
    {
     "data": {
      "text/plain": [
       "2    76\n",
       "1    69\n",
       "7    29\n",
       "3    17\n",
       "5    13\n",
       "6     9\n",
       "Name: Type, dtype: int64"
      ]
     },
     "execution_count": 7,
     "metadata": {},
     "output_type": "execute_result"
    }
   ],
   "source": [
    "data['Type'].value_counts()"
   ]
  },
  {
   "cell_type": "markdown",
   "id": "568b12e5",
   "metadata": {},
   "source": [
    "Наблюдается преобладание записей 1 и 2 класса и совсем небольшое количество записей для 6 класса. Из этого мы можем сделать вывод, что у нас датасет с несбалансированными классами."
   ]
  },
  {
   "cell_type": "code",
   "execution_count": 11,
   "id": "46989db3",
   "metadata": {},
   "outputs": [
    {
     "data": {
      "text/html": [
       "<div>\n",
       "<style scoped>\n",
       "    .dataframe tbody tr th:only-of-type {\n",
       "        vertical-align: middle;\n",
       "    }\n",
       "\n",
       "    .dataframe tbody tr th {\n",
       "        vertical-align: top;\n",
       "    }\n",
       "\n",
       "    .dataframe thead th {\n",
       "        text-align: right;\n",
       "    }\n",
       "</style>\n",
       "<table border=\"1\" class=\"dataframe\">\n",
       "  <thead>\n",
       "    <tr style=\"text-align: right;\">\n",
       "      <th></th>\n",
       "      <th>RI</th>\n",
       "      <th>Na</th>\n",
       "      <th>Mg</th>\n",
       "      <th>Al</th>\n",
       "      <th>Si</th>\n",
       "      <th>K</th>\n",
       "      <th>Ca</th>\n",
       "      <th>Ba</th>\n",
       "      <th>Fe</th>\n",
       "    </tr>\n",
       "    <tr>\n",
       "      <th>Type</th>\n",
       "      <th></th>\n",
       "      <th></th>\n",
       "      <th></th>\n",
       "      <th></th>\n",
       "      <th></th>\n",
       "      <th></th>\n",
       "      <th></th>\n",
       "      <th></th>\n",
       "      <th></th>\n",
       "    </tr>\n",
       "  </thead>\n",
       "  <tbody>\n",
       "    <tr>\n",
       "      <th>1</th>\n",
       "      <td>1.518669</td>\n",
       "      <td>13.228261</td>\n",
       "      <td>3.548551</td>\n",
       "      <td>1.173913</td>\n",
       "      <td>72.631449</td>\n",
       "      <td>0.452319</td>\n",
       "      <td>8.786087</td>\n",
       "      <td>0.012899</td>\n",
       "      <td>0.057826</td>\n",
       "    </tr>\n",
       "    <tr>\n",
       "      <th>2</th>\n",
       "      <td>1.518619</td>\n",
       "      <td>13.111711</td>\n",
       "      <td>3.002105</td>\n",
       "      <td>1.408158</td>\n",
       "      <td>72.598026</td>\n",
       "      <td>0.521053</td>\n",
       "      <td>9.073684</td>\n",
       "      <td>0.050263</td>\n",
       "      <td>0.079737</td>\n",
       "    </tr>\n",
       "    <tr>\n",
       "      <th>3</th>\n",
       "      <td>1.517964</td>\n",
       "      <td>13.437059</td>\n",
       "      <td>3.543529</td>\n",
       "      <td>1.201176</td>\n",
       "      <td>72.404706</td>\n",
       "      <td>0.406471</td>\n",
       "      <td>8.782941</td>\n",
       "      <td>0.008824</td>\n",
       "      <td>0.057059</td>\n",
       "    </tr>\n",
       "    <tr>\n",
       "      <th>5</th>\n",
       "      <td>1.518928</td>\n",
       "      <td>12.827692</td>\n",
       "      <td>0.773846</td>\n",
       "      <td>2.033846</td>\n",
       "      <td>72.366154</td>\n",
       "      <td>1.470000</td>\n",
       "      <td>10.123846</td>\n",
       "      <td>0.187692</td>\n",
       "      <td>0.060769</td>\n",
       "    </tr>\n",
       "    <tr>\n",
       "      <th>6</th>\n",
       "      <td>1.517456</td>\n",
       "      <td>14.646667</td>\n",
       "      <td>1.305556</td>\n",
       "      <td>1.366667</td>\n",
       "      <td>73.206667</td>\n",
       "      <td>0.000000</td>\n",
       "      <td>9.356667</td>\n",
       "      <td>0.000000</td>\n",
       "      <td>0.000000</td>\n",
       "    </tr>\n",
       "    <tr>\n",
       "      <th>7</th>\n",
       "      <td>1.517116</td>\n",
       "      <td>14.442069</td>\n",
       "      <td>0.538276</td>\n",
       "      <td>2.122759</td>\n",
       "      <td>72.965862</td>\n",
       "      <td>0.325172</td>\n",
       "      <td>8.491379</td>\n",
       "      <td>1.040000</td>\n",
       "      <td>0.013448</td>\n",
       "    </tr>\n",
       "  </tbody>\n",
       "</table>\n",
       "</div>"
      ],
      "text/plain": [
       "            RI         Na        Mg        Al         Si         K         Ca  \\\n",
       "Type                                                                            \n",
       "1     1.518669  13.228261  3.548551  1.173913  72.631449  0.452319   8.786087   \n",
       "2     1.518619  13.111711  3.002105  1.408158  72.598026  0.521053   9.073684   \n",
       "3     1.517964  13.437059  3.543529  1.201176  72.404706  0.406471   8.782941   \n",
       "5     1.518928  12.827692  0.773846  2.033846  72.366154  1.470000  10.123846   \n",
       "6     1.517456  14.646667  1.305556  1.366667  73.206667  0.000000   9.356667   \n",
       "7     1.517116  14.442069  0.538276  2.122759  72.965862  0.325172   8.491379   \n",
       "\n",
       "            Ba        Fe  \n",
       "Type                      \n",
       "1     0.012899  0.057826  \n",
       "2     0.050263  0.079737  \n",
       "3     0.008824  0.057059  \n",
       "5     0.187692  0.060769  \n",
       "6     0.000000  0.000000  \n",
       "7     1.040000  0.013448  "
      ]
     },
     "execution_count": 11,
     "metadata": {},
     "output_type": "execute_result"
    }
   ],
   "source": [
    "data.groupby(['Type']).mean()"
   ]
  },
  {
   "cell_type": "markdown",
   "id": "2034cf59",
   "metadata": {},
   "source": [
    "Проанализировав среднии данные по классам, можно сделать вывод, что небольшое количество записей для класса 6 не должно повлиять на модель, так как по средним мы видим, что 6 класс характеризуется полным отсуствием в составе K, Ba, Fe в отличии от других классов, т.е. его легко можно идентифицировать"
   ]
  },
  {
   "cell_type": "markdown",
   "id": "7c2cc769",
   "metadata": {},
   "source": [
    "### Обучение модели дерева решений RandomForestClassifier"
   ]
  },
  {
   "cell_type": "code",
   "execution_count": 13,
   "id": "5fdf09ce",
   "metadata": {},
   "outputs": [
    {
     "data": {
      "text/html": [
       "<style>#sk-container-id-1 {color: black;background-color: white;}#sk-container-id-1 pre{padding: 0;}#sk-container-id-1 div.sk-toggleable {background-color: white;}#sk-container-id-1 label.sk-toggleable__label {cursor: pointer;display: block;width: 100%;margin-bottom: 0;padding: 0.3em;box-sizing: border-box;text-align: center;}#sk-container-id-1 label.sk-toggleable__label-arrow:before {content: \"▸\";float: left;margin-right: 0.25em;color: #696969;}#sk-container-id-1 label.sk-toggleable__label-arrow:hover:before {color: black;}#sk-container-id-1 div.sk-estimator:hover label.sk-toggleable__label-arrow:before {color: black;}#sk-container-id-1 div.sk-toggleable__content {max-height: 0;max-width: 0;overflow: hidden;text-align: left;background-color: #f0f8ff;}#sk-container-id-1 div.sk-toggleable__content pre {margin: 0.2em;color: black;border-radius: 0.25em;background-color: #f0f8ff;}#sk-container-id-1 input.sk-toggleable__control:checked~div.sk-toggleable__content {max-height: 200px;max-width: 100%;overflow: auto;}#sk-container-id-1 input.sk-toggleable__control:checked~label.sk-toggleable__label-arrow:before {content: \"▾\";}#sk-container-id-1 div.sk-estimator input.sk-toggleable__control:checked~label.sk-toggleable__label {background-color: #d4ebff;}#sk-container-id-1 div.sk-label input.sk-toggleable__control:checked~label.sk-toggleable__label {background-color: #d4ebff;}#sk-container-id-1 input.sk-hidden--visually {border: 0;clip: rect(1px 1px 1px 1px);clip: rect(1px, 1px, 1px, 1px);height: 1px;margin: -1px;overflow: hidden;padding: 0;position: absolute;width: 1px;}#sk-container-id-1 div.sk-estimator {font-family: monospace;background-color: #f0f8ff;border: 1px dotted black;border-radius: 0.25em;box-sizing: border-box;margin-bottom: 0.5em;}#sk-container-id-1 div.sk-estimator:hover {background-color: #d4ebff;}#sk-container-id-1 div.sk-parallel-item::after {content: \"\";width: 100%;border-bottom: 1px solid gray;flex-grow: 1;}#sk-container-id-1 div.sk-label:hover label.sk-toggleable__label {background-color: #d4ebff;}#sk-container-id-1 div.sk-serial::before {content: \"\";position: absolute;border-left: 1px solid gray;box-sizing: border-box;top: 0;bottom: 0;left: 50%;z-index: 0;}#sk-container-id-1 div.sk-serial {display: flex;flex-direction: column;align-items: center;background-color: white;padding-right: 0.2em;padding-left: 0.2em;position: relative;}#sk-container-id-1 div.sk-item {position: relative;z-index: 1;}#sk-container-id-1 div.sk-parallel {display: flex;align-items: stretch;justify-content: center;background-color: white;position: relative;}#sk-container-id-1 div.sk-item::before, #sk-container-id-1 div.sk-parallel-item::before {content: \"\";position: absolute;border-left: 1px solid gray;box-sizing: border-box;top: 0;bottom: 0;left: 50%;z-index: -1;}#sk-container-id-1 div.sk-parallel-item {display: flex;flex-direction: column;z-index: 1;position: relative;background-color: white;}#sk-container-id-1 div.sk-parallel-item:first-child::after {align-self: flex-end;width: 50%;}#sk-container-id-1 div.sk-parallel-item:last-child::after {align-self: flex-start;width: 50%;}#sk-container-id-1 div.sk-parallel-item:only-child::after {width: 0;}#sk-container-id-1 div.sk-dashed-wrapped {border: 1px dashed gray;margin: 0 0.4em 0.5em 0.4em;box-sizing: border-box;padding-bottom: 0.4em;background-color: white;}#sk-container-id-1 div.sk-label label {font-family: monospace;font-weight: bold;display: inline-block;line-height: 1.2em;}#sk-container-id-1 div.sk-label-container {text-align: center;}#sk-container-id-1 div.sk-container {/* jupyter's `normalize.less` sets `[hidden] { display: none; }` but bootstrap.min.css set `[hidden] { display: none !important; }` so we also need the `!important` here to be able to override the default hidden behavior on the sphinx rendered scikit-learn.org. See: https://github.com/scikit-learn/scikit-learn/issues/21755 */display: inline-block !important;position: relative;}#sk-container-id-1 div.sk-text-repr-fallback {display: none;}</style><div id=\"sk-container-id-1\" class=\"sk-top-container\"><div class=\"sk-text-repr-fallback\"><pre>RandomForestClassifier()</pre><b>In a Jupyter environment, please rerun this cell to show the HTML representation or trust the notebook. <br />On GitHub, the HTML representation is unable to render, please try loading this page with nbviewer.org.</b></div><div class=\"sk-container\" hidden><div class=\"sk-item\"><div class=\"sk-estimator sk-toggleable\"><input class=\"sk-toggleable__control sk-hidden--visually\" id=\"sk-estimator-id-1\" type=\"checkbox\" checked><label for=\"sk-estimator-id-1\" class=\"sk-toggleable__label sk-toggleable__label-arrow\">RandomForestClassifier</label><div class=\"sk-toggleable__content\"><pre>RandomForestClassifier()</pre></div></div></div></div></div>"
      ],
      "text/plain": [
       "RandomForestClassifier()"
      ]
     },
     "execution_count": 13,
     "metadata": {},
     "output_type": "execute_result"
    }
   ],
   "source": [
    "X = data[data.columns[:-1]]\n",
    "y = data['Type']\n",
    "\n",
    "model = RandomForestClassifier()\n",
    "\n",
    "X_train, X_test, y_train, y_test = train_test_split(X, y, test_size = 0.2, random_state = 42)\n",
    "\n",
    "model.fit(X_train, y_train)"
   ]
  },
  {
   "cell_type": "markdown",
   "id": "24cec5b7",
   "metadata": {},
   "source": [
    "### Для тестового множества предскажим тип стекла и сравните с истинным значением, посчитав точность предсказания модели (accuracy)"
   ]
  },
  {
   "cell_type": "code",
   "execution_count": 65,
   "id": "529b5fbe",
   "metadata": {},
   "outputs": [
    {
     "name": "stdout",
     "output_type": "stream",
     "text": [
      "Точность предсказания модели: 0.813953488372093\n"
     ]
    }
   ],
   "source": [
    "pred_type = model.predict(X_test)\n",
    "print(f'Точность предсказания модели: {accuracy_score(y_test, pred_type)}')"
   ]
  },
  {
   "cell_type": "markdown",
   "id": "f8b3c8f1",
   "metadata": {},
   "source": [
    "### Обработайте выбросы в данных."
   ]
  },
  {
   "cell_type": "code",
   "execution_count": 77,
   "id": "bb9a1bbc",
   "metadata": {},
   "outputs": [],
   "source": [
    "def make_plot(column):\n",
    "    sns.boxplot(data[column], orient='h')\n",
    "    sns.displot(data[column])\n",
    "    print(f'Критерий Шапиро для проверки нормальности распределения: {shapiro(data[column])}')"
   ]
  },
  {
   "cell_type": "code",
   "execution_count": 80,
   "id": "ea0a63f7",
   "metadata": {},
   "outputs": [
    {
     "name": "stdout",
     "output_type": "stream",
     "text": [
      "Критерий Шапиро для проверки нормальности распределения: ShapiroResult(statistic=0.8649588227272034, pvalue=8.434215782379684e-13)\n"
     ]
    },
    {
     "data": {
      "image/png": "[encoded data removed]",
      "text/plain": [
       "<Figure size 640x480 with 1 Axes>"
      ]
     },
     "metadata": {},
     "output_type": "display_data"
    },
    {
     "data": {
      "image/png": "[encoded data removed]",
      "text/plain": [
       "<Figure size 500x500 with 1 Axes>"
      ]
     },
     "metadata": {},
     "output_type": "display_data"
    }
   ],
   "source": [
    "make_plot('RI')"
   ]
  },
  {
   "cell_type": "code",
   "execution_count": 81,
   "id": "ae70b22f",
   "metadata": {},
   "outputs": [
    {
     "name": "stdout",
     "output_type": "stream",
     "text": [
      "Критерий Шапиро для проверки нормальности распределения: ShapiroResult(statistic=0.9447407126426697, pvalue=2.930406992618373e-07)\n"
     ]
    },
    {
     "data": {
      "image/png": "[encoded data removed]",
      "text/plain": [
       "<Figure size 640x480 with 1 Axes>"
      ]
     },
     "metadata": {},
     "output_type": "display_data"
    },
    {
     "data": {
      "image/png": "[encoded data removed]",
      "text/plain": [
       "<Figure size 500x500 with 1 Axes>"
      ]
     },
     "metadata": {},
     "output_type": "display_data"
    }
   ],
   "source": [
    "make_plot('Na')"
   ]
  },
  {
   "cell_type": "code",
   "execution_count": 82,
   "id": "2b6792f0",
   "metadata": {},
   "outputs": [
    {
     "name": "stdout",
     "output_type": "stream",
     "text": [
      "Критерий Шапиро для проверки нормальности распределения: ShapiroResult(statistic=0.6999149322509766, pvalue=2.7616334648756637e-19)\n"
     ]
    },
    {
     "data": {
      "image/png": "[encoded data removed]",
      "text/plain": [
       "<Figure size 640x480 with 1 Axes>"
      ]
     },
     "metadata": {},
     "output_type": "display_data"
    },
    {
     "data": {
      "image/png": "[encoded data removed]",
      "text/plain": [
       "<Figure size 500x500 with 1 Axes>"
      ]
     },
     "metadata": {},
     "output_type": "display_data"
    }
   ],
   "source": [
    "make_plot('Mg')"
   ]
  },
  {
   "cell_type": "code",
   "execution_count": 83,
   "id": "cb4319f2",
   "metadata": {},
   "outputs": [
    {
     "name": "stdout",
     "output_type": "stream",
     "text": [
      "Критерий Шапиро для проверки нормальности распределения: ShapiroResult(statistic=0.9415011405944824, pvalue=1.4700569295200694e-07)\n"
     ]
    },
    {
     "data": {
      "image/png": "[encoded data removed]",
      "text/plain": [
       "<Figure size 640x480 with 1 Axes>"
      ]
     },
     "metadata": {},
     "output_type": "display_data"
    },
    {
     "data": {
      "image/png": "[encoded data removed]",
      "text/plain": [
       "<Figure size 500x500 with 1 Axes>"
      ]
     },
     "metadata": {},
     "output_type": "display_data"
    }
   ],
   "source": [
    "make_plot('Al')"
   ]
  },
  {
   "cell_type": "code",
   "execution_count": 84,
   "id": "a5e2e0c0",
   "metadata": {},
   "outputs": [
    {
     "name": "stdout",
     "output_type": "stream",
     "text": [
      "Критерий Шапиро для проверки нормальности распределения: ShapiroResult(statistic=0.9178295135498047, pvalue=1.6946732905864792e-09)\n"
     ]
    },
    {
     "data": {
      "image/png": "[encoded data removed]",
      "text/plain": [
       "<Figure size 640x480 with 1 Axes>"
      ]
     },
     "metadata": {},
     "output_type": "display_data"
    },
    {
     "data": {
      "image/png": "[encoded data removed]",
      "text/plain": [
       "<Figure size 500x500 with 1 Axes>"
      ]
     },
     "metadata": {},
     "output_type": "display_data"
    }
   ],
   "source": [
    "make_plot('Si')"
   ]
  },
  {
   "cell_type": "code",
   "execution_count": 85,
   "id": "ff734ae7",
   "metadata": {},
   "outputs": [
    {
     "name": "stdout",
     "output_type": "stream",
     "text": [
      "Критерий Шапиро для проверки нормальности распределения: ShapiroResult(statistic=0.44111430644989014, pvalue=2.4059535308474517e-25)\n"
     ]
    },
    {
     "data": {
      "image/png": "[encoded data removed]",
      "text/plain": [
       "<Figure size 640x480 with 1 Axes>"
      ]
     },
     "metadata": {},
     "output_type": "display_data"
    },
    {
     "data": {
      "image/png": "[encoded data removed]",
      "text/plain": [
       "<Figure size 500x500 with 1 Axes>"
      ]
     },
     "metadata": {},
     "output_type": "display_data"
    }
   ],
   "source": [
    "make_plot('K')"
   ]
  },
  {
   "cell_type": "code",
   "execution_count": 86,
   "id": "4d130769",
   "metadata": {},
   "outputs": [
    {
     "name": "stdout",
     "output_type": "stream",
     "text": [
      "Критерий Шапиро для проверки нормальности распределения: ShapiroResult(statistic=0.7924720048904419, pvalue=4.140469629142023e-16)\n"
     ]
    },
    {
     "data": {
      "image/png": "[encoded data removed]",
      "text/plain": [
       "<Figure size 640x480 with 1 Axes>"
      ]
     },
     "metadata": {},
     "output_type": "display_data"
    },
    {
     "data": {
      "image/png": "[encoded data removed]",
      "text/plain": [
       "<Figure size 500x500 with 1 Axes>"
      ]
     },
     "metadata": {},
     "output_type": "display_data"
    }
   ],
   "source": [
    "make_plot('Ca')"
   ]
  },
  {
   "cell_type": "code",
   "execution_count": 87,
   "id": "ca8c0bab",
   "metadata": {},
   "outputs": [
    {
     "name": "stdout",
     "output_type": "stream",
     "text": [
      "Критерий Шапиро для проверки нормальности распределения: ShapiroResult(statistic=0.40972548723220825, pvalue=6.404264337340556e-26)\n"
     ]
    },
    {
     "data": {
      "image/png": "[encoded data removed]",
      "text/plain": [
       "<Figure size 640x480 with 1 Axes>"
      ]
     },
     "metadata": {},
     "output_type": "display_data"
    },
    {
     "data": {
      "image/png": "[encoded data removed]",
      "text/plain": [
       "<Figure size 500x500 with 1 Axes>"
      ]
     },
     "metadata": {},
     "output_type": "display_data"
    }
   ],
   "source": [
    "make_plot('Ba')"
   ]
  },
  {
   "cell_type": "code",
   "execution_count": 88,
   "id": "e8cea3a0",
   "metadata": {},
   "outputs": [
    {
     "name": "stdout",
     "output_type": "stream",
     "text": [
      "Критерий Шапиро для проверки нормальности распределения: ShapiroResult(statistic=0.6547442674636841, pvalue=1.4194406386712884e-20)\n"
     ]
    },
    {
     "data": {
      "image/png": "[encoded data removed]",
      "text/plain": [
       "<Figure size 640x480 with 1 Axes>"
      ]
     },
     "metadata": {},
     "output_type": "display_data"
    },
    {
     "data": {
      "image/png": "[encoded data removed]",
      "text/plain": [
       "<Figure size 500x500 with 1 Axes>"
      ]
     },
     "metadata": {},
     "output_type": "display_data"
    }
   ],
   "source": [
    "make_plot('Fe')"
   ]
  },
  {
   "cell_type": "code",
   "execution_count": 89,
   "id": "6c7c75a5",
   "metadata": {},
   "outputs": [
    {
     "data": {
      "text/plain": [
       "2    7\n",
       "1    1\n",
       "6    1\n",
       "7    1\n",
       "Name: Type, dtype: int64"
      ]
     },
     "execution_count": 89,
     "metadata": {},
     "output_type": "execute_result"
    }
   ],
   "source": [
    "data[(data['RI'] < 1.512) | (data['RI'] > 1.525)]['Type'].value_counts()"
   ]
  },
  {
   "cell_type": "code",
   "execution_count": 90,
   "id": "955c31b4",
   "metadata": {},
   "outputs": [
    {
     "data": {
      "text/plain": [
       "2    1\n",
       "6    1\n",
       "Name: Type, dtype: int64"
      ]
     },
     "execution_count": 90,
     "metadata": {},
     "output_type": "execute_result"
    }
   ],
   "source": [
    "data[(data['Na'] <= 11) | (data['Na'] >= 16)]['Type'].value_counts()"
   ]
  },
  {
   "cell_type": "code",
   "execution_count": 91,
   "id": "878c74cb",
   "metadata": {},
   "outputs": [
    {
     "data": {
      "text/plain": [
       "5    3\n",
       "Name: Type, dtype: int64"
      ]
     },
     "execution_count": 91,
     "metadata": {},
     "output_type": "execute_result"
    }
   ],
   "source": [
    "data[data['Al'] >= 3]['Type'].value_counts()"
   ]
  },
  {
   "cell_type": "code",
   "execution_count": 92,
   "id": "f37ca6f1",
   "metadata": {},
   "outputs": [
    {
     "data": {
      "text/plain": [
       "2    1\n",
       "5    1\n",
       "6    1\n",
       "7    1\n",
       "Name: Type, dtype: int64"
      ]
     },
     "execution_count": 92,
     "metadata": {},
     "output_type": "execute_result"
    }
   ],
   "source": [
    "data[(data['Si'] <= 70) | (data['Si'] >= 75)]['Type'].value_counts()"
   ]
  },
  {
   "cell_type": "code",
   "execution_count": 93,
   "id": "7eb6df4c",
   "metadata": {},
   "outputs": [
    {
     "data": {
      "text/plain": [
       "5    2\n",
       "7    1\n",
       "Name: Type, dtype: int64"
      ]
     },
     "execution_count": 93,
     "metadata": {},
     "output_type": "execute_result"
    }
   ],
   "source": [
    "data[data['K'] >= 2]['Type'].value_counts()"
   ]
  },
  {
   "cell_type": "code",
   "execution_count": 94,
   "id": "5b592f5a",
   "metadata": {},
   "outputs": [
    {
     "data": {
      "text/plain": [
       "2    7\n",
       "5    3\n",
       "7    2\n",
       "Name: Type, dtype: int64"
      ]
     },
     "execution_count": 94,
     "metadata": {},
     "output_type": "execute_result"
    }
   ],
   "source": [
    "data[(data['Ca'] <= 6) | (data['Ca'] >= 12)]['Type'].value_counts()"
   ]
  },
  {
   "cell_type": "code",
   "execution_count": 95,
   "id": "8ff236a9",
   "metadata": {},
   "outputs": [
    {
     "data": {
      "text/plain": [
       "2    1\n",
       "5    1\n",
       "7    1\n",
       "Name: Type, dtype: int64"
      ]
     },
     "execution_count": 95,
     "metadata": {},
     "output_type": "execute_result"
    }
   ],
   "source": [
    "data[data['Ba'] >= 2]['Type'].value_counts()"
   ]
  },
  {
   "cell_type": "code",
   "execution_count": 96,
   "id": "8b48c7af",
   "metadata": {},
   "outputs": [
    {
     "data": {
      "text/plain": [
       "2    1\n",
       "3    1\n",
       "5    1\n",
       "Name: Type, dtype: int64"
      ]
     },
     "execution_count": 96,
     "metadata": {},
     "output_type": "execute_result"
    }
   ],
   "source": [
    "data[data['Fe'] >= 0.35]['Type'].value_counts()"
   ]
  },
  {
   "cell_type": "markdown",
   "id": "6ac99d59",
   "metadata": {},
   "source": [
    "По анализу графиков мы можем сказать, что выбросы в основном принадлежат 2, 5 и 7 классам. Если 2 и 7 классы у нас многочисленные и удаление записей с выбросами не критично, то 5 класс у нас содержит всего 13 записей, поэтому удаление записей из него может привести к уменьшению качества модели.\n",
    "\n",
    "По критерию Шапиро-Уилка среди признаков нет тех, что нормально распределены"
   ]
  },
  {
   "cell_type": "markdown",
   "id": "8e10596a",
   "metadata": {},
   "source": [
    "### Удаление выбросов"
   ]
  },
  {
   "cell_type": "code",
   "execution_count": 113,
   "id": "d8ac5a41",
   "metadata": {},
   "outputs": [],
   "source": [
    "data_clear = data.copy()"
   ]
  },
  {
   "cell_type": "markdown",
   "id": "7116b25b",
   "metadata": {},
   "source": [
    "Было принято решение увеличить отклонение значения с 1.5 до 1.75 IQR"
   ]
  },
  {
   "cell_type": "code",
   "execution_count": 100,
   "id": "e7e54f8e",
   "metadata": {},
   "outputs": [],
   "source": [
    "def get_outliers(data):\n",
    "  Q1 = np.percentile(data, 25, method = 'midpoint')\n",
    "  Q3 = np.percentile(data, 75, method = 'midpoint')\n",
    "  IQR = Q3 - Q1\n",
    "  outliers = data[(data < Q1 - (1.75 * IQR)) | (data > Q3 + (1.75 * IQR))]\n",
    "  return outliers"
   ]
  },
  {
   "cell_type": "markdown",
   "id": "0c459e2b",
   "metadata": {},
   "source": [
    "Так как выбросы Fe относятся к классу 5, то исключим его Fe из датафрейма"
   ]
  },
  {
   "cell_type": "code",
   "execution_count": 103,
   "id": "5a8e92c0",
   "metadata": {},
   "outputs": [
    {
     "name": "stdout",
     "output_type": "stream",
     "text": [
      "Выбросы у RI\n",
      "47     1.52667\n",
      "103    1.52725\n",
      "104    1.52410\n",
      "105    1.52475\n",
      "106    1.53125\n",
      "107    1.53393\n",
      "110    1.52664\n",
      "111    1.52739\n",
      "112    1.52777\n",
      "131    1.52614\n",
      "184    1.51115\n",
      "185    1.51131\n",
      "Name: RI, dtype: float64\n",
      "---------------------------\n",
      "Выбросы у Na\n",
      "106    10.73\n",
      "110    11.23\n",
      "111    11.02\n",
      "166    11.03\n",
      "184    17.38\n",
      "189    15.79\n",
      "Name: Na, dtype: float64\n",
      "---------------------------\n",
      "Выбросы у Mg\n",
      "Series([], Name: Mg, dtype: float64)\n",
      "---------------------------\n",
      "Выбросы у Al\n",
      "21     0.29\n",
      "163    3.50\n",
      "171    3.04\n",
      "172    3.02\n",
      "184    0.34\n",
      "192    2.79\n",
      "195    2.68\n",
      "196    2.54\n",
      "198    2.66\n",
      "199    2.51\n",
      "202    2.42\n",
      "208    2.74\n",
      "209    2.88\n",
      "Name: Al, dtype: float64\n",
      "---------------------------\n",
      "Выбросы у Si\n",
      "103    70.57\n",
      "106    69.81\n",
      "107    70.16\n",
      "163    69.89\n",
      "171    70.48\n",
      "172    70.70\n",
      "180    74.55\n",
      "184    75.41\n",
      "188    70.26\n",
      "189    70.43\n",
      "201    75.18\n",
      "Name: Si, dtype: float64\n",
      "---------------------------\n",
      "Выбросы у K\n",
      "163    1.68\n",
      "171    6.21\n",
      "172    6.21\n",
      "185    1.76\n",
      "186    1.46\n",
      "201    2.70\n",
      "Name: K, dtype: float64\n",
      "---------------------------\n",
      "Выбросы у Ca\n",
      "103    11.64\n",
      "104    10.79\n",
      "105    13.24\n",
      "106    13.30\n",
      "107    16.19\n",
      "108    11.52\n",
      "109    10.99\n",
      "110    14.68\n",
      "111    14.96\n",
      "112    14.40\n",
      "130    11.14\n",
      "131    13.44\n",
      "163     5.87\n",
      "165    11.41\n",
      "166    11.62\n",
      "167    11.53\n",
      "169    11.32\n",
      "170    12.24\n",
      "173    12.50\n",
      "175    11.27\n",
      "182    10.88\n",
      "183    11.22\n",
      "185     5.43\n",
      "186     5.79\n",
      "207     6.47\n",
      "Name: Ca, dtype: float64\n",
      "---------------------------\n",
      "Выбросы у Ba\n",
      "32     0.09\n",
      "36     0.11\n",
      "61     0.69\n",
      "99     0.14\n",
      "100    0.11\n",
      "106    3.15\n",
      "128    0.27\n",
      "141    0.09\n",
      "142    0.06\n",
      "161    0.15\n",
      "163    2.20\n",
      "174    0.24\n",
      "185    1.19\n",
      "186    1.63\n",
      "189    1.68\n",
      "190    0.76\n",
      "191    0.64\n",
      "192    0.40\n",
      "193    1.59\n",
      "194    1.57\n",
      "195    0.61\n",
      "196    0.81\n",
      "197    0.66\n",
      "198    0.64\n",
      "199    0.53\n",
      "200    0.63\n",
      "202    0.56\n",
      "203    1.71\n",
      "204    0.67\n",
      "205    1.55\n",
      "206    1.38\n",
      "207    2.88\n",
      "208    0.54\n",
      "209    1.06\n",
      "210    1.59\n",
      "211    1.64\n",
      "212    1.57\n",
      "213    1.67\n",
      "Name: Ba, dtype: float64\n",
      "---------------------------\n"
     ]
    }
   ],
   "source": [
    "for value in data.columns.values.tolist():\n",
    "  if ((value != 'Type') & (value != 'Fe')):\n",
    "    print(\"Выбросы у \" + value)\n",
    "    print(get_outliers(data_clear[value]))\n",
    "    print('---------------------------')"
   ]
  },
  {
   "cell_type": "markdown",
   "id": "f7b0cdfc",
   "metadata": {},
   "source": [
    "Записей 5 и 6 класса у нас очень мало, поэтому не будем исключать их как выбросы"
   ]
  },
  {
   "cell_type": "code",
   "execution_count": 114,
   "id": "0af7f305",
   "metadata": {},
   "outputs": [],
   "source": [
    "safe = data_clear[(data_clear['Type'] == 5) | (data_clear['Type'] == 6)]"
   ]
  },
  {
   "cell_type": "code",
   "execution_count": 115,
   "id": "a4553396",
   "metadata": {},
   "outputs": [],
   "source": [
    "data_clear = data_clear[(data_clear['Type'] != 5) & (data_clear['Type'] != 6)]\n",
    "data_clear = data_clear[(data_clear['RI'] > 1.512) & (data_clear['RI'] < 1.525)]\n",
    "data_clear = data_clear[((data_clear['Na'] > 11) & (data_clear['Na'] < 16))]\n",
    "data_clear = data_clear[((data_clear['Si'] > 70) & (data_clear['Si'] < 75))]\n",
    "data_clear = data_clear[(data_clear['K'] < 2)]\n",
    "data_clear = data_clear[((data_clear['Ca'] > 6) & (data_clear['Ca'] < 12))]\n",
    "data_clear = data_clear[(data_clear['Ba'] < 2)]"
   ]
  },
  {
   "cell_type": "code",
   "execution_count": 116,
   "id": "0c93ef95",
   "metadata": {},
   "outputs": [],
   "source": [
    "data_clear = pd.concat([data_clear, safe], axis = 0)"
   ]
  },
  {
   "cell_type": "code",
   "execution_count": 117,
   "id": "4a6ccec6",
   "metadata": {},
   "outputs": [
    {
     "name": "stdout",
     "output_type": "stream",
     "text": [
      "Число удалённых выбросов для класса 1 составило 1.45%\n",
      "Число удалённых выбросов для класса 2 составило 10.53%\n",
      "Число удалённых выбросов для класса 3 составило 0.0%\n",
      "Число удалённых выбросов для класса 5 составило 0.0%\n",
      "Число удалённых выбросов для класса 6 составило 0.0%\n",
      "Число удалённых выбросов для класса 7 составило 13.79%\n"
     ]
    }
   ],
   "source": [
    "for value in data['Type'].unique():\n",
    "  outliers_percent = round(100 - (data_clear[data_clear['Type'] == value].size / data[data['Type'] == value].size * 100), 2)\n",
    "  print(f'Число удалённых выбросов для класса {value} составило {outliers_percent}%')"
   ]
  },
  {
   "cell_type": "markdown",
   "id": "fc36f714",
   "metadata": {},
   "source": [
    "### Обучение модели дерева решений RandomForestClassifier после удаления выбросов"
   ]
  },
  {
   "cell_type": "code",
   "execution_count": 118,
   "id": "f909b1ce",
   "metadata": {},
   "outputs": [
    {
     "data": {
      "text/html": [
       "<style>#sk-container-id-2 {color: black;background-color: white;}#sk-container-id-2 pre{padding: 0;}#sk-container-id-2 div.sk-toggleable {background-color: white;}#sk-container-id-2 label.sk-toggleable__label {cursor: pointer;display: block;width: 100%;margin-bottom: 0;padding: 0.3em;box-sizing: border-box;text-align: center;}#sk-container-id-2 label.sk-toggleable__label-arrow:before {content: \"▸\";float: left;margin-right: 0.25em;color: #696969;}#sk-container-id-2 label.sk-toggleable__label-arrow:hover:before {color: black;}#sk-container-id-2 div.sk-estimator:hover label.sk-toggleable__label-arrow:before {color: black;}#sk-container-id-2 div.sk-toggleable__content {max-height: 0;max-width: 0;overflow: hidden;text-align: left;background-color: #f0f8ff;}#sk-container-id-2 div.sk-toggleable__content pre {margin: 0.2em;color: black;border-radius: 0.25em;background-color: #f0f8ff;}#sk-container-id-2 input.sk-toggleable__control:checked~div.sk-toggleable__content {max-height: 200px;max-width: 100%;overflow: auto;}#sk-container-id-2 input.sk-toggleable__control:checked~label.sk-toggleable__label-arrow:before {content: \"▾\";}#sk-container-id-2 div.sk-estimator input.sk-toggleable__control:checked~label.sk-toggleable__label {background-color: #d4ebff;}#sk-container-id-2 div.sk-label input.sk-toggleable__control:checked~label.sk-toggleable__label {background-color: #d4ebff;}#sk-container-id-2 input.sk-hidden--visually {border: 0;clip: rect(1px 1px 1px 1px);clip: rect(1px, 1px, 1px, 1px);height: 1px;margin: -1px;overflow: hidden;padding: 0;position: absolute;width: 1px;}#sk-container-id-2 div.sk-estimator {font-family: monospace;background-color: #f0f8ff;border: 1px dotted black;border-radius: 0.25em;box-sizing: border-box;margin-bottom: 0.5em;}#sk-container-id-2 div.sk-estimator:hover {background-color: #d4ebff;}#sk-container-id-2 div.sk-parallel-item::after {content: \"\";width: 100%;border-bottom: 1px solid gray;flex-grow: 1;}#sk-container-id-2 div.sk-label:hover label.sk-toggleable__label {background-color: #d4ebff;}#sk-container-id-2 div.sk-serial::before {content: \"\";position: absolute;border-left: 1px solid gray;box-sizing: border-box;top: 0;bottom: 0;left: 50%;z-index: 0;}#sk-container-id-2 div.sk-serial {display: flex;flex-direction: column;align-items: center;background-color: white;padding-right: 0.2em;padding-left: 0.2em;position: relative;}#sk-container-id-2 div.sk-item {position: relative;z-index: 1;}#sk-container-id-2 div.sk-parallel {display: flex;align-items: stretch;justify-content: center;background-color: white;position: relative;}#sk-container-id-2 div.sk-item::before, #sk-container-id-2 div.sk-parallel-item::before {content: \"\";position: absolute;border-left: 1px solid gray;box-sizing: border-box;top: 0;bottom: 0;left: 50%;z-index: -1;}#sk-container-id-2 div.sk-parallel-item {display: flex;flex-direction: column;z-index: 1;position: relative;background-color: white;}#sk-container-id-2 div.sk-parallel-item:first-child::after {align-self: flex-end;width: 50%;}#sk-container-id-2 div.sk-parallel-item:last-child::after {align-self: flex-start;width: 50%;}#sk-container-id-2 div.sk-parallel-item:only-child::after {width: 0;}#sk-container-id-2 div.sk-dashed-wrapped {border: 1px dashed gray;margin: 0 0.4em 0.5em 0.4em;box-sizing: border-box;padding-bottom: 0.4em;background-color: white;}#sk-container-id-2 div.sk-label label {font-family: monospace;font-weight: bold;display: inline-block;line-height: 1.2em;}#sk-container-id-2 div.sk-label-container {text-align: center;}#sk-container-id-2 div.sk-container {/* jupyter's `normalize.less` sets `[hidden] { display: none; }` but bootstrap.min.css set `[hidden] { display: none !important; }` so we also need the `!important` here to be able to override the default hidden behavior on the sphinx rendered scikit-learn.org. See: https://github.com/scikit-learn/scikit-learn/issues/21755 */display: inline-block !important;position: relative;}#sk-container-id-2 div.sk-text-repr-fallback {display: none;}</style><div id=\"sk-container-id-2\" class=\"sk-top-container\"><div class=\"sk-text-repr-fallback\"><pre>RandomForestClassifier()</pre><b>In a Jupyter environment, please rerun this cell to show the HTML representation or trust the notebook. <br />On GitHub, the HTML representation is unable to render, please try loading this page with nbviewer.org.</b></div><div class=\"sk-container\" hidden><div class=\"sk-item\"><div class=\"sk-estimator sk-toggleable\"><input class=\"sk-toggleable__control sk-hidden--visually\" id=\"sk-estimator-id-2\" type=\"checkbox\" checked><label for=\"sk-estimator-id-2\" class=\"sk-toggleable__label sk-toggleable__label-arrow\">RandomForestClassifier</label><div class=\"sk-toggleable__content\"><pre>RandomForestClassifier()</pre></div></div></div></div></div>"
      ],
      "text/plain": [
       "RandomForestClassifier()"
      ]
     },
     "execution_count": 118,
     "metadata": {},
     "output_type": "execute_result"
    }
   ],
   "source": [
    "X = data_clear[data_clear.columns[:-1]]\n",
    "y = data_clear['Type']\n",
    "\n",
    "model = RandomForestClassifier()\n",
    "\n",
    "X_train, X_test, y_train, y_test = train_test_split(X, y, test_size = 0.2, random_state = 42)\n",
    "\n",
    "model.fit(X_train, y_train)"
   ]
  },
  {
   "cell_type": "code",
   "execution_count": 119,
   "id": "7464bec8",
   "metadata": {},
   "outputs": [
    {
     "name": "stdout",
     "output_type": "stream",
     "text": [
      "Точность предсказания модели: 0.825\n"
     ]
    }
   ],
   "source": [
    "pred_type = model.predict(X_test)\n",
    "print(f'Точность предсказания модели: {accuracy_score(y_test, pred_type)}')"
   ]
  },
  {
   "cell_type": "markdown",
   "id": "c0b1e114",
   "metadata": {},
   "source": [
    "### Вывод\n",
    "\n",
    "Было произведён поиск выбросов, анализ влияния их на классовый состав целевой переменной. Также было принято решение не исключать выбросы из 5 и 6 классов. После удаления выбросов точность модели увеличилась с **0.8139** до **0.825**\n",
    "\n",
    "Поиск и исключения выбросов позволяет повысить точность предсказания модели. Но нужно обязательно обращать внимание на случаи с несколькими классами, когда один из классов характеризуется именно на основании данных, отличающихся от средних."
   ]
  }
 ],
 "metadata": {
  "kernelspec": {
   "display_name": "Python 3 (ipykernel)",
   "language": "python",
   "name": "python3"
  },
  "language_info": {
   "codemirror_mode": {
    "name": "ipython",
    "version": 3
   },
   "file_extension": ".py",
   "mimetype": "text/x-python",
   "name": "python",
   "nbconvert_exporter": "python",
   "pygments_lexer": "ipython3",
   "version": "3.9.16"
  }
 },
 "nbformat": 4,
 "nbformat_minor": 5
}
