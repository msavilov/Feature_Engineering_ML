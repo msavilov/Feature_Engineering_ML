{
 "cells": [
  {
   "cell_type": "markdown",
   "id": "f4840c41",
   "metadata": {},
   "source": [
    "### Этапы работы:\n",
    "\n",
    "1) Загрузите данные. Используйте датасет с ирисами. Его можно загрузить непосредственно из библиотеки Sklearn. В данных оставьте только 2 класса: Iris Versicolor, Iris Virginica.\n",
    "\n",
    "2) Самостоятельно реализуйте логистическую регрессию, без использования метода LogisticRegression из библиотеки. Можете использовать библиотеки pandas, numpy, math для реализации. Оформите в виде функции. *Оформите в виде класса с методами.\n",
    "\n",
    "3) Реализуйте метод градиентного спуска. Обучите логистическую регрессию этим методом. Выберете и посчитайте метрику качества. Метрика должна быть одинакова для всех пунктов домашнего задания. Для упрощения сравнения выберете только одну метрику.\n",
    "\n",
    "4) Повторите п. 3 для метода скользящего среднего (Root Mean Square Propagation, RMSProp).\n",
    "\n",
    "5) Повторите п. 3 для ускоренного по Нестерову метода адаптивной оценки моментов (Nesterov–accelerated Adaptive Moment Estimation, Nadam).\n",
    "\n",
    "6) Сравните значение метрик для реализованных методов оптимизации. Можно оформить в виде таблицы вида |метод|метрика|время работы| (время работы опционально). Напишите вывод."
   ]
  },
  {
   "cell_type": "code",
   "execution_count": 1,
   "id": "1916bc72",
   "metadata": {},
   "outputs": [],
   "source": [
    "import time\n",
    "\n",
    "import numpy as np\n",
    "import pandas as pd\n",
    "import matplotlib.pyplot as plt\n",
    "\n",
    "from sklearn.datasets import load_iris\n",
    "from sklearn.linear_model import LogisticRegression\n",
    "from sklearn.metrics import accuracy_score\n",
    "from sklearn.model_selection import train_test_split"
   ]
  },
  {
   "cell_type": "code",
   "execution_count": 2,
   "id": "0470ee4d",
   "metadata": {},
   "outputs": [],
   "source": [
    "iris = load_iris()"
   ]
  },
  {
   "cell_type": "markdown",
   "id": "62719359",
   "metadata": {},
   "source": [
    "Исключим из датасета Iris Setosa и преобразуем целевой признаки из 1 и 2 в 0 и 1"
   ]
  },
  {
   "cell_type": "code",
   "execution_count": 3,
   "id": "6ed1cff1",
   "metadata": {},
   "outputs": [
    {
     "name": "stdout",
     "output_type": "stream",
     "text": [
      "['setosa' 'versicolor' 'virginica']\n"
     ]
    }
   ],
   "source": [
    "print(iris.target_names)"
   ]
  },
  {
   "cell_type": "code",
   "execution_count": 4,
   "id": "dc8ecd6a",
   "metadata": {},
   "outputs": [],
   "source": [
    "X=iris.data[iris.target != 0]\n",
    "y=iris.target[iris.target != 0]\n",
    "y=np.asarray([0 if x==1 else 1 for x in y])"
   ]
  },
  {
   "cell_type": "code",
   "execution_count": 5,
   "id": "fbe31ced",
   "metadata": {},
   "outputs": [
    {
     "data": {
      "text/plain": [
       "array([0, 0, 0, 0, 0, 0, 0, 0, 0, 0, 0, 0, 0, 0, 0, 0, 0, 0, 0, 0, 0, 0,\n",
       "       0, 0, 0, 0, 0, 0, 0, 0, 0, 0, 0, 0, 0, 0, 0, 0, 0, 0, 0, 0, 0, 0,\n",
       "       0, 0, 0, 0, 0, 0, 1, 1, 1, 1, 1, 1, 1, 1, 1, 1, 1, 1, 1, 1, 1, 1,\n",
       "       1, 1, 1, 1, 1, 1, 1, 1, 1, 1, 1, 1, 1, 1, 1, 1, 1, 1, 1, 1, 1, 1,\n",
       "       1, 1, 1, 1, 1, 1, 1, 1, 1, 1, 1, 1])"
      ]
     },
     "execution_count": 5,
     "metadata": {},
     "output_type": "execute_result"
    }
   ],
   "source": [
    "y"
   ]
  },
  {
   "cell_type": "markdown",
   "id": "e7e5878c",
   "metadata": {},
   "source": [
    "Обучим модель, используя библотечную реализацию LogisticRegression. Она будет выполнять роль контрольного значения для сравнения метрик."
   ]
  },
  {
   "cell_type": "code",
   "execution_count": 6,
   "id": "53352965",
   "metadata": {},
   "outputs": [],
   "source": [
    "X_train, X_test, y_train, y_test = train_test_split(X, y, test_size=0.2, random_state=21)"
   ]
  },
  {
   "cell_type": "code",
   "execution_count": 7,
   "id": "085152ae",
   "metadata": {},
   "outputs": [],
   "source": [
    "lr = LogisticRegression(max_iter=100, tol=0.05)"
   ]
  },
  {
   "cell_type": "code",
   "execution_count": 8,
   "id": "e63cc98c",
   "metadata": {},
   "outputs": [
    {
     "name": "stdout",
     "output_type": "stream",
     "text": [
      "Время работы библиотечной LogisticRegression = 0.025\n"
     ]
    }
   ],
   "source": [
    "start_time = time.time()\n",
    "lr.fit(X_train, y_train)\n",
    "lib_end_time = time.time() - start_time\n",
    "print(f'Время работы библиотечной LogisticRegression = {lib_end_time:.3f}')"
   ]
  },
  {
   "cell_type": "code",
   "execution_count": 9,
   "id": "03bc8c7d",
   "metadata": {},
   "outputs": [
    {
     "name": "stdout",
     "output_type": "stream",
     "text": [
      "Точность предсказания = 0.9\n"
     ]
    }
   ],
   "source": [
    "lib_predict = lr.predict(X_test)\n",
    "lib_score = accuracy_score(y_test, lib_predict)\n",
    "print(f'Точность предсказания = {lib_score}')"
   ]
  },
  {
   "cell_type": "markdown",
   "id": "19d183fd",
   "metadata": {},
   "source": [
    "### Реализуем логистическую регрессию, без использования метода LogisticRegression из библиотеки\n",
    "x += - learning_rate * dx"
   ]
  },
  {
   "cell_type": "code",
   "execution_count": 10,
   "id": "94e56c84",
   "metadata": {},
   "outputs": [],
   "source": [
    "def sigmoid(z):\n",
    "  \"\"\"Расчёт логистической функции\"\"\"\n",
    "  return (1 / (1 + np.exp(-z)))"
   ]
  },
  {
   "cell_type": "code",
   "execution_count": 11,
   "id": "8c6dbe3e",
   "metadata": {},
   "outputs": [],
   "source": [
    "def loss(predict, y):\n",
    "  \"\"\"Расчёт функции потерь на основе бинарной кросс-энтропии\"\"\"\n",
    "  return ((-y) * np.log(predict) - (1 - y) * np.log(1 - predict)).mean()"
   ]
  },
  {
   "cell_type": "code",
   "execution_count": 12,
   "id": "cb9e69ad",
   "metadata": {},
   "outputs": [],
   "source": [
    "def transposition(X):\n",
    "    intercept = np.ones((X.shape[0], 1))\n",
    "    X = np.concatenate((intercept, X), axis=1)\n",
    "    return X"
   ]
  },
  {
   "cell_type": "code",
   "execution_count": 13,
   "id": "a2abc759",
   "metadata": {},
   "outputs": [],
   "source": [
    "def predict_proba(X, theta, fit_intercept=True):\n",
    "  \"\"\"Предсказание вероятности\"\"\"\n",
    "  if len(theta) - 1 == X.shape[1]:\n",
    "      transposition(X)\n",
    "  z = np.dot(X, theta)\n",
    "  return sigmoid(z)"
   ]
  },
  {
   "cell_type": "code",
   "execution_count": 14,
   "id": "e887ae75",
   "metadata": {},
   "outputs": [],
   "source": [
    "def predict(prediction_proba, rate=0.5):\n",
    "  \"\"\"Предсказание класса на основе вероятностей\"\"\"\n",
    "  return np.asarray([0 if x < rate else 1 for x in prediction_proba])"
   ]
  },
  {
   "cell_type": "code",
   "execution_count": 15,
   "id": "11ae684d",
   "metadata": {},
   "outputs": [],
   "source": [
    "def hand_lr_model(X, y, fit_intercept=True, max_iter=100, learning_rate=0.01, eps=0.000001):\n",
    "    \"\"\"Градиентный спуск\"\"\"\n",
    "    if fit_intercept is True:\n",
    "        transposition(X)\n",
    "    theta = np.ones(X.shape[1])\n",
    "    costs = []\n",
    "    preds = []\n",
    "    for i in range(max_iter):\n",
    "\n",
    "        prediction = predict_proba(X, theta) # Предсказание значений\n",
    "        gradient = np.dot(X.T, (prediction - y)) / y.size # Рассчёт градиента\n",
    "        theta -= learning_rate * gradient # Сдвиг оценки коэффициентов\n",
    "        \n",
    "        preds.append(prediction)\n",
    "        costs.append(loss(prediction, y))\n",
    "        \n",
    "        if i > 0:\n",
    "          if abs(costs[-1] - costs[-2]) < eps:\n",
    "            break\n",
    "    return  theta, costs, prediction"
   ]
  },
  {
   "cell_type": "code",
   "execution_count": 16,
   "id": "08ab1066",
   "metadata": {},
   "outputs": [
    {
     "name": "stdout",
     "output_type": "stream",
     "text": [
      "Время работы небиблиотечной реализации = 0.025\n"
     ]
    }
   ],
   "source": [
    "start_time = time.time()\n",
    "hand_model = hand_lr_model(X_train, y_train, max_iter=100, learning_rate=0.05)\n",
    "hand_end_time = time.time() - start_time\n",
    "print(f'Время работы небиблиотечной реализации = {hand_end_time:.3f}')"
   ]
  },
  {
   "cell_type": "code",
   "execution_count": 17,
   "id": "e8529a0a",
   "metadata": {},
   "outputs": [
    {
     "data": {
      "image/png": "[encoded data removed]",
      "text/plain": [
       "<Figure size 432x288 with 1 Axes>"
      ]
     },
     "metadata": {
      "needs_background": "light"
     },
     "output_type": "display_data"
    }
   ],
   "source": [
    "plt.plot(hand_model[1])\n",
    "plt.show()"
   ]
  },
  {
   "cell_type": "code",
   "execution_count": 18,
   "id": "f2b66e21",
   "metadata": {},
   "outputs": [
    {
     "name": "stdout",
     "output_type": "stream",
     "text": [
      "Точность предсказания = 0.9\n"
     ]
    }
   ],
   "source": [
    "hand_predict = predict(predict_proba(X_test,hand_model[0]))\n",
    "hand_score = accuracy_score(y_test, hand_predict)\n",
    "print(f'Точность предсказания = {hand_score}')"
   ]
  },
  {
   "cell_type": "markdown",
   "id": "aca34153",
   "metadata": {},
   "source": [
    "### Реализовать Logistic Regression для метода скользящего среднего (Root Mean Square Propagation, RMSProp)\n",
    "\n",
    "cache = decay_rate * cache + (1 - decay_rate) * dx ** 2\n",
    "\n",
    "x += - learning_rate * dx / (np.sqrt(cache) + eps)"
   ]
  },
  {
   "cell_type": "code",
   "execution_count": 19,
   "id": "9e0208f7",
   "metadata": {},
   "outputs": [],
   "source": [
    "def rmsprop_lr_model(X, y, fit_intercept=True, max_iter=100, learning_rate=0.05, eps=0.000001, decay_rate=0.9):\n",
    "    if fit_intercept is True:\n",
    "        transposition(X)\n",
    "    theta = np.ones(X.shape[1])\n",
    "    costs = []\n",
    "    preds = []\n",
    "    \n",
    "    cache=np.zeros(X.shape[1])\n",
    "    caches=[]\n",
    "    for i in range(max_iter):\n",
    "        prediction = predict_proba(X,theta)\n",
    "        gradient = np.dot(X.T, (prediction - y)) / y.size\n",
    "        \n",
    "        cache = decay_rate * cache+ (1 - decay_rate) * gradient**2\n",
    "        caches.append(cache)\n",
    "       \n",
    "        theta += -learning_rate * gradient / (np.sqrt(cache) + eps)\n",
    "       \n",
    "        preds.append(prediction)\n",
    "        costs.append(loss(prediction, y))\n",
    "       \n",
    "        if i > 0:\n",
    "          if abs(costs[-1] - costs[-2]) < eps:\n",
    "            break\n",
    "    return  theta, costs, prediction, caches"
   ]
  },
  {
   "cell_type": "code",
   "execution_count": 20,
   "id": "30c406db",
   "metadata": {},
   "outputs": [
    {
     "name": "stdout",
     "output_type": "stream",
     "text": [
      "Время работы реализации RMSProp = 0.014\n"
     ]
    }
   ],
   "source": [
    "start_time = time.time()\n",
    "rmsprop_model = rmsprop_lr_model(X_train, y_train, max_iter=100, learning_rate=0.05)\n",
    "rmsprop_end_time = time.time() - start_time\n",
    "print(f'Время работы реализации RMSProp = {rmsprop_end_time:.3f}')"
   ]
  },
  {
   "cell_type": "code",
   "execution_count": 21,
   "id": "7e102f17",
   "metadata": {},
   "outputs": [
    {
     "name": "stdout",
     "output_type": "stream",
     "text": [
      "Точность предсказания = 0.8\n"
     ]
    }
   ],
   "source": [
    "rmsprop_predict = predict(predict_proba(X_test, rmsprop_model[0]))\n",
    "rmsprop_score = accuracy_score(y_test, rmsprop_predict)\n",
    "print(f'Точность предсказания = {rmsprop_score}')"
   ]
  },
  {
   "cell_type": "markdown",
   "id": "1b9251df",
   "metadata": {},
   "source": [
    "### Реализовать Logistic Regression для ускоренного по Нестерову метода адаптивной оценки моментов (Nesterov–accelerated Adaptive Moment Estimation, Nadam).\n",
    "\n",
    "v = gamma * v - learning_rate * dx\n",
    "\n",
    "x += v"
   ]
  },
  {
   "cell_type": "code",
   "execution_count": 22,
   "id": "cc6a32e5",
   "metadata": {},
   "outputs": [],
   "source": [
    "def nadam_lr_model(X, y, fit_intercept=True, max_iter=100, learning_rate=0.01, eps=0.000001, gamma=0.9):\n",
    "    if fit_intercept is True:\n",
    "        transposition(X)\n",
    "    theta = np.ones(X.shape[1])\n",
    "    costs = []\n",
    "    preds = []\n",
    "    v=0\n",
    "    vs=[]\n",
    "    for i in range(max_iter):\n",
    "        prediction=predict_proba(X, theta)\n",
    "        gradient = np.dot(X.T, (prediction - y)) / y.size\n",
    "        v = gamma * v - learning_rate * gradient\n",
    "        \n",
    "        vs.append(v)\n",
    "        theta += v\n",
    "        \n",
    "        preds.append(prediction)\n",
    "        costs.append(loss(prediction, y))\n",
    "       \n",
    "        if i > 0:\n",
    "          if abs(costs[-1] - costs[-2]) < eps:\n",
    "            break\n",
    "    return  theta, costs, prediction, vs"
   ]
  },
  {
   "cell_type": "code",
   "execution_count": 23,
   "id": "a7054672",
   "metadata": {},
   "outputs": [
    {
     "name": "stdout",
     "output_type": "stream",
     "text": [
      "Время работы реализации NADAM = 0.013\n"
     ]
    }
   ],
   "source": [
    "start_time = time.time()\n",
    "nadam_model = nadam_lr_model(X_train, y_train, max_iter=100, learning_rate=0.05)\n",
    "nadam_end_time = time.time() - start_time\n",
    "print(f'Время работы реализации NADAM = {nadam_end_time:.3f}')"
   ]
  },
  {
   "cell_type": "code",
   "execution_count": 24,
   "id": "0f633394",
   "metadata": {},
   "outputs": [
    {
     "name": "stdout",
     "output_type": "stream",
     "text": [
      "Точность предсказания = 0.9\n"
     ]
    }
   ],
   "source": [
    "nadam_predict = predict(predict_proba(X_test, nadam_model[0]))\n",
    "nadam_score = accuracy_score(y_test, nadam_predict)\n",
    "print(f'Точность предсказания = {nadam_score}')"
   ]
  },
  {
   "cell_type": "markdown",
   "id": "7f42ece5",
   "metadata": {},
   "source": [
    "### Вывод:\n",
    "\n",
    "Была проведена оценка моделей Logistic Regression на основе нескольких моделей. В качестве метрик использовался accurency_score и замер времени обученя модели. Были получены значения метрик:"
   ]
  },
  {
   "cell_type": "code",
   "execution_count": 27,
   "id": "80c4d3dc",
   "metadata": {},
   "outputs": [
    {
     "name": "stdout",
     "output_type": "stream",
     "text": [
      "Библиотечная Logistic Regression: score = 0.9, время = 0.025\n",
      "Ручная Logistic Regression: score = 0.9, время = 0.025\n",
      "RMSProp Logistic Regression: score = 0.8, время = 0.014\n",
      "Nadam Logistic Regression: score = 0.9, время = 0.013\n"
     ]
    }
   ],
   "source": [
    "print(f'Библиотечная Logistic Regression: score = {lib_score}, время = {lib_end_time:.3f}')\n",
    "print(f'Ручная Logistic Regression: score = {hand_score}, время = {hand_end_time:.3f}')\n",
    "print(f'RMSProp Logistic Regression: score = {rmsprop_score}, время = {rmsprop_end_time:.3f}')\n",
    "print(f'Nadam Logistic Regression: score = {nadam_score}, время = {nadam_end_time:.3f}')"
   ]
  },
  {
   "cell_type": "markdown",
   "id": "de0f3504",
   "metadata": {},
   "source": [
    "За исключением RMSProp Logistic Regression все мидели показали одинаковую точность accuracy_score.\n",
    "\n",
    "Также стоит обратить внимание, что ручные модели показали скорость в 2 раза больше библиотечной"
   ]
  }
 ],
 "metadata": {
  "kernelspec": {
   "display_name": "Python 3 (ipykernel)",
   "language": "python",
   "name": "python3"
  },
  "language_info": {
   "codemirror_mode": {
    "name": "ipython",
    "version": 3
   },
   "file_extension": ".py",
   "mimetype": "text/x-python",
   "name": "python",
   "nbconvert_exporter": "python",
   "pygments_lexer": "ipython3",
   "version": "3.9.7"
  }
 },
 "nbformat": 4,
 "nbformat_minor": 5
}
